{
 "cells": [
  {
   "cell_type": "markdown",
   "metadata": {},
   "source": [
    "Relational Databases via SQL\n",
    "\n",
    "Today's lab is a crash-course in relational databases, as well as SQL (_Structured Query Language_), which is the most popular language for managing relational databases.\n",
    "\n",
    "There are many database management system (\"DBMS\") products that support SQL. The one we will consider in this class is the simplest, called [sqlite3](https://www.sqlite.org/). It stores the database in a simple file and can be run in a \"standalone\" mode. However, we will consider [invoking it from Python](https://docs.python.org/2/library/sqlite3.html).\n",
    "\n",
    "With a little luck, you _might_ by the end of this class understand this [xkcd comic on SQL injection attacks](http://xkcd.com/327)."
   ]
  },
  {
   "cell_type": "markdown",
   "metadata": {},
   "source": [
    "## Getting started\n",
    "\n",
    "In Python, you _connect_ to an `sqlite3` database by creating a _connection object_."
   ]
  },
  {
   "cell_type": "code",
   "execution_count": 1,
   "metadata": {},
   "outputs": [],
   "source": [
    "import sqlite3 as db\n",
    "\n",
    "# Connect to a database (or create one if it doesn't exist)\n",
    "conn = db.connect ('example.db')"
   ]
  },
  {
   "cell_type": "markdown",
   "metadata": {},
   "source": [
    "`sqlite` maintains databases as files; in this example, the name of that file is `example.db`.\n",
    "\n",
    "> If the named file does not yet exist, connecting to it in this way will create it."
   ]
  },
  {
   "cell_type": "markdown",
   "metadata": {},
   "source": [
    "To issue commands to the database, you also need to create a _cursor_."
   ]
  },
  {
   "cell_type": "code",
   "execution_count": 2,
   "metadata": {},
   "outputs": [],
   "source": [
    "# Create a 'cursor' for executing commands\n",
    "c = conn.cursor ()"
   ]
  },
  {
   "cell_type": "markdown",
   "metadata": {},
   "source": [
    "A cursor tracks the current state of the database, and you will mostly be using the cursor to manipulate or query the database."
   ]
  },
  {
   "cell_type": "markdown",
   "metadata": {},
   "source": [
    "## Tables and Basic Queries\n",
    "\n",
    "The main object of a relational database is a _table_.\n",
    "\n",
    "Conceptually, your data consists of items and attributes. In a database table, the items are _rows_ and the attributes are _columns_.\n",
    "\n",
    "For instance, suppose we wish to maintain a database of Georgia Tech students, whose attributes are their names and GT IDs. You might start by creating a table named `Students` to hold this data. You can create the table using the command, [`create table`](https://www.sqlite.org/lang_createtable.html)."
   ]
  },
  {
   "cell_type": "code",
   "execution_count": 3,
   "metadata": {},
   "outputs": [
    {
     "data": {
      "text/plain": [
       "<sqlite3.Cursor at 0x7f86ca8ab6c0>"
      ]
     },
     "execution_count": 3,
     "metadata": {},
     "output_type": "execute_result"
    }
   ],
   "source": [
    "c.execute (\"create table Students (gtid integer, name text)\")"
   ]
  },
  {
   "cell_type": "markdown",
   "metadata": {},
   "source": [
    "> Note: This command will fail if the table already exists. If you are trying to carry out these exercises from scratch, you may need to remove any existing `example.db` first."
   ]
  },
  {
   "cell_type": "markdown",
   "metadata": {},
   "source": [
    "To populate the table with items, you can use the command, [`insert into`](https://www.sqlite.org/lang_insert.html)."
   ]
  },
  {
   "cell_type": "code",
   "execution_count": 4,
   "metadata": {},
   "outputs": [
    {
     "data": {
      "text/plain": [
       "<sqlite3.Cursor at 0x7f86ca8ab6c0>"
      ]
     },
     "execution_count": 4,
     "metadata": {},
     "output_type": "execute_result"
    }
   ],
   "source": [
    "c.execute (\"insert into Students values (123, 'Vuduc')\")\n",
    "c.execute (\"insert into Students values (456, 'Chau')\")\n",
    "c.execute (\"insert into Students values (381, 'Bader')\")\n",
    "c.execute (\"insert into Students values (991, 'Sokol')\")"
   ]
  },
  {
   "cell_type": "markdown",
   "metadata": {},
   "source": [
    "Given a table, the most common operation is a _query_. The simplest kind of query is called a [`select`](https://www.sqlite.org/lang_select.html).\n",
    "\n",
    "The following example selects all rows (items) from the `Students` table."
   ]
  },
  {
   "cell_type": "code",
   "execution_count": 5,
   "metadata": {},
   "outputs": [
    {
     "data": {
      "text/plain": [
       "<sqlite3.Cursor at 0x7f86ca8ab6c0>"
      ]
     },
     "execution_count": 5,
     "metadata": {},
     "output_type": "execute_result"
    }
   ],
   "source": [
    "c.execute (\"select * from Students\")"
   ]
  },
  {
   "cell_type": "markdown",
   "metadata": {},
   "source": [
    "Conceptually, the database is now in a new state in which you can ask for results of the query. One way to do that is to call `fetchone()` on the cursor object, which will return a tuple corresponding to a row of the table.\n",
    "\n",
    "This example calls `fetchone()` twice to get the first two query results."
   ]
  },
  {
   "cell_type": "code",
   "execution_count": 6,
   "metadata": {},
   "outputs": [
    {
     "name": "stdout",
     "output_type": "stream",
     "text": [
      "(123, 'Vuduc')\n",
      "(456, 'Chau')\n"
     ]
    }
   ],
   "source": [
    "print (c.fetchone ())\n",
    "print (c.fetchone ())"
   ]
  },
  {
   "cell_type": "markdown",
   "metadata": {},
   "source": [
    "An alternative to `fetchone()` is `fetchall()`, which will return a list of tuples for all rows, _starting at the cursor_.\n",
    "\n",
    "> Since the preceding code has already fetched the first two results, calling `fetchall()` at this point will return all _remaining_ results."
   ]
  },
  {
   "cell_type": "code",
   "execution_count": 7,
   "metadata": {},
   "outputs": [
    {
     "name": "stdout",
     "output_type": "stream",
     "text": [
      "[(381, 'Bader'), (991, 'Sokol')]\n"
     ]
    }
   ],
   "source": [
    "print (c.fetchall ())"
   ]
  },
  {
   "cell_type": "markdown",
   "metadata": {},
   "source": [
    "**Question.** What will calling `fetchone()` at this point return?"
   ]
  },
  {
   "cell_type": "code",
   "execution_count": 8,
   "metadata": {},
   "outputs": [
    {
     "name": "stdout",
     "output_type": "stream",
     "text": [
      "None\n"
     ]
    }
   ],
   "source": [
    "print (c.fetchone ())"
   ]
  },
  {
   "cell_type": "markdown",
   "metadata": {},
   "source": [
    "Here is an alternative, an arguably more natural, idiom for executing a query and iterating over its results."
   ]
  },
  {
   "cell_type": "code",
   "execution_count": 9,
   "metadata": {},
   "outputs": [
    {
     "name": "stdout",
     "output_type": "stream",
     "text": [
      "(123, 'Vuduc')\n",
      "(456, 'Chau')\n",
      "(381, 'Bader')\n",
      "(991, 'Sokol')\n"
     ]
    }
   ],
   "source": [
    "query = 'select * from Students'\n",
    "for student in c.execute (query):\n",
    "    print (student)"
   ]
  },
  {
   "cell_type": "markdown",
   "metadata": {},
   "source": [
    "## An insertion idiom\n",
    "\n",
    "Another common operation is to perform a bunch of insertions into a table from a list of tuples. In this case, you can use `executemany()`."
   ]
  },
  {
   "cell_type": "code",
   "execution_count": 10,
   "metadata": {},
   "outputs": [
    {
     "name": "stdout",
     "output_type": "stream",
     "text": [
      "(123, 'Vuduc')\n",
      "(456, 'Chau')\n",
      "(381, 'Bader')\n",
      "(991, 'Sokol')\n",
      "(723, 'Rozga')\n",
      "(882, 'Zha')\n",
      "(401, 'Park')\n",
      "(377, 'Vetter')\n",
      "(904, 'Brown')\n"
     ]
    }
   ],
   "source": [
    "# An important (and secure!) idiom\n",
    "more_students = [(723, 'Rozga'),\n",
    "                 (882, 'Zha'),\n",
    "                 (401, 'Park'),\n",
    "                 (377, 'Vetter'),\n",
    "                 (904, 'Brown')]\n",
    "\n",
    "c.executemany ('insert into Students values (?, ?)', more_students)\n",
    "\n",
    "query = 'select * from Students'\n",
    "for student in c.execute (query):\n",
    "    print (student)"
   ]
  },
  {
   "cell_type": "markdown",
   "metadata": {},
   "source": [
    "**Exercise.** Suppose we wish to maintain a second table, called `Takes`, which records classes that students have taken and the grades they earn.\n",
    "\n",
    "In particular, each row of `Takes` stores a student by his/her GT ID, the course he/she took, and the grade he/she earned. More formally, suppose this table is defined as follows:"
   ]
  },
  {
   "cell_type": "code",
   "execution_count": 11,
   "metadata": {},
   "outputs": [
    {
     "data": {
      "text/plain": [
       "<sqlite3.Cursor at 0x7f86ca8ab6c0>"
      ]
     },
     "execution_count": 11,
     "metadata": {},
     "output_type": "execute_result"
    }
   ],
   "source": [
    "c.execute ('create table Takes (gtid integer, course text, grade real)')"
   ]
  },
  {
   "cell_type": "markdown",
   "metadata": {},
   "source": [
    "Write a command to insert the following records into the `Takes` table.\n",
    "\n",
    "* Vuduc: CSE 6040 - A (4.0), ISYE 6644 - B (3.0), MGMT 8803 - D (1.0)\n",
    "* Sokol: CSE 6040 - A (4.0), ISYE 6740 - A (4.0)\n",
    "* Chau: CSE 6040 - C (2.0), CSE 6740 - C (2.0), MGMT 8803 - B (3.0)"
   ]
  },
  {
   "cell_type": "code",
   "execution_count": 12,
   "metadata": {},
   "outputs": [
    {
     "data": {
      "text/plain": [
       "<sqlite3.Cursor at 0x7f86ca8ab6c0>"
      ]
     },
     "execution_count": 12,
     "metadata": {},
     "output_type": "execute_result"
    }
   ],
   "source": [
    "# Insert your solution here; use the next cell to test the output\n",
    "taken_spring2015 = [(991, \"CSE 6040\", 4.0),\n",
    "                    (456, \"CSE 6040\", 4.0),\n",
    "                    (123, \"CSE 6040\", 2.0),\n",
    "                    (123, \"ISYE 6644\", 3.0),\n",
    "                    (123, \"MGMT 8803\", 1.0),\n",
    "                    (991, \"ISYE 6740\", 4.0),\n",
    "                    (456, \"CSE 6740\", 2.0),\n",
    "                    (456, \"MGMT 8803\", 3.0)]\n",
    "\n",
    "c.executemany ('insert into Takes values (?, ?, ?)', taken_spring2015)"
   ]
  },
  {
   "cell_type": "code",
   "execution_count": 13,
   "metadata": {},
   "outputs": [
    {
     "name": "stdout",
     "output_type": "stream",
     "text": [
      "(991, 'CSE 6040', 4.0)\n",
      "(456, 'CSE 6040', 4.0)\n",
      "(123, 'CSE 6040', 2.0)\n",
      "(123, 'ISYE 6644', 3.0)\n",
      "(123, 'MGMT 8803', 1.0)\n",
      "(991, 'ISYE 6740', 4.0)\n",
      "(456, 'CSE 6740', 2.0)\n",
      "(456, 'MGMT 8803', 3.0)\n"
     ]
    }
   ],
   "source": [
    "# Displays the results of your code\n",
    "for row in c.execute ('select * from Takes'):\n",
    "    print (row)"
   ]
  },
  {
   "cell_type": "markdown",
   "metadata": {},
   "source": [
    "## Join queries\n",
    "\n",
    "The \"big idea\" in a relational database is to build queries that combine information from multiple tables. A _join query_ is one such operation.\n",
    "\n",
    "There are many types of joins, but the simplest is one in which you use the `where` clause of a `select` statement to specify how to match rows from the tables being joined.\n",
    "\n",
    "For example, recall that the `Takes` table stores classes taken by each student. However, these classes are recorded by a student's GT ID. Suppose we want a report where we want each student's name rather than his/her ID. We can get the matching name from the `Students` table. Here is a query to accomplish this matching:"
   ]
  },
  {
   "cell_type": "code",
   "execution_count": 14,
   "metadata": {},
   "outputs": [
    {
     "name": "stdout",
     "output_type": "stream",
     "text": [
      "('Vuduc', 'CSE 6040', 2.0)\n",
      "('Vuduc', 'ISYE 6644', 3.0)\n",
      "('Vuduc', 'MGMT 8803', 1.0)\n",
      "('Chau', 'CSE 6040', 4.0)\n",
      "('Chau', 'CSE 6740', 2.0)\n",
      "('Chau', 'MGMT 8803', 3.0)\n",
      "('Sokol', 'CSE 6040', 4.0)\n",
      "('Sokol', 'ISYE 6740', 4.0)\n"
     ]
    }
   ],
   "source": [
    "# See all (name, course, grade) tuples\n",
    "query = '''\n",
    "    select Students.name, Takes.course, Takes.grade\n",
    "        from Students, Takes\n",
    "        where Students.gtid=Takes.gtid\n",
    "'''\n",
    "\n",
    "for match in c.execute (query):\n",
    "    print (match)"
   ]
  },
  {
   "cell_type": "markdown",
   "metadata": {},
   "source": [
    "**Exercise.** Write a query to select only the names and grades of students _who took CSE 6040_."
   ]
  },
  {
   "cell_type": "code",
   "execution_count": null,
   "metadata": {},
   "outputs": [],
   "source": []
  },
  {
   "cell_type": "markdown",
   "metadata": {},
   "source": [
    "## Aggregations\n",
    "\n",
    "Another common style of query is an _aggregation_, which is a summary of information across multiple records, rather than the raw records themselves.\n",
    "\n",
    "For instance, suppose we want to compute the GPA for each unique GT ID from the `Takes` table. Here is a query that does it:"
   ]
  },
  {
   "cell_type": "code",
   "execution_count": 15,
   "metadata": {},
   "outputs": [
    {
     "name": "stdout",
     "output_type": "stream",
     "text": [
      "('Vuduc', 2.0)\n",
      "('Chau', 3.0)\n",
      "('Sokol', 4.0)\n"
     ]
    }
   ],
   "source": [
    "query = '''\n",
    "    select Students.name, avg (Takes.grade)\n",
    "        from Takes, Students\n",
    "        where Students.gtid=Takes.gtid\n",
    "        group by Takes.gtid\n",
    "'''\n",
    "\n",
    "for match in c.execute (query):\n",
    "    print (match)"
   ]
  },
  {
   "cell_type": "markdown",
   "metadata": {},
   "source": [
    "**Exercise.** Compute the GPA of every student, but report the _name_ (rather than GT ID) and GPA."
   ]
  },
  {
   "cell_type": "code",
   "execution_count": null,
   "metadata": {},
   "outputs": [],
   "source": []
  },
  {
   "cell_type": "markdown",
   "metadata": {},
   "source": [
    "## Cleanup\n",
    "\n",
    "As one final bit of information, it's good practice to shutdown the cursor and connection, the same way you close files."
   ]
  },
  {
   "cell_type": "code",
   "execution_count": 16,
   "metadata": {},
   "outputs": [],
   "source": [
    "c.close()\n",
    "conn.close()"
   ]
  },
  {
   "cell_type": "code",
   "execution_count": null,
   "metadata": {},
   "outputs": [],
   "source": []
  }
 ],
 "metadata": {
  "kernelspec": {
   "display_name": "Python 3",
   "language": "python",
   "name": "python3"
  },
  "language_info": {
   "codemirror_mode": {
    "name": "ipython",
    "version": 3
   },
   "file_extension": ".py",
   "mimetype": "text/x-python",
   "name": "python",
   "nbconvert_exporter": "python",
   "pygments_lexer": "ipython3",
   "version": "3.7.6"
  }
 },
 "nbformat": 4,
 "nbformat_minor": 1
}
