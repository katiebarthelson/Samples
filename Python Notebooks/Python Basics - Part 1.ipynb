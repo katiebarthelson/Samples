{
 "cells": [
  {
   "cell_type": "markdown",
   "metadata": {
    "nbgrader": {
     "grade": false,
     "grade_id": "cell-166d0b0bd7d2633f",
     "locked": true,
     "schema_version": 1,
     "solution": false
    }
   },
   "source": [
    "# Python review: Values, variables, types, lists, and strings\n",
    "\n",
    "These first few notebooks are a set of exercises with two goals:\n",
    "\n",
    "1. Review the basics of Python\n",
    "2. Familiarize you with Jupyter\n",
    "\n",
    "Regarding the first goal, these initial notebooks cover material we think you should already know from [Chris Simpkins's](https://www.cc.gatech.edu/~simpkins/) [Python Bootcamp from Fall 2018](http://datamastery.gitlab.io/msabc/august2018.html). This bootcamp is what students on the on-campus Georgia Tech MS Analytics students took.\n",
    "\n",
    "Regarding the second goal, you'll observe that the bootcamp has each student install and work directly with the Python interpreter, which runs locally on his or her machine (e.g., see the `Video: Getting Started` link and Slide 7 of his Intro to Python slides). But in this course, we are using Jupyter Notebooks as the development environment. You can think of a Jupyter notebook as a web-based \"skin\" for running a Python interpreter---possibly hosted on a remote server, which is the case in this course. Here is a good tutorial on [Jupyter](https://www.datacamp.com/community/tutorials/tutorial-jupyter-notebook)."
   ]
  },
  {
   "cell_type": "markdown",
   "metadata": {
    "nbgrader": {
     "grade": false,
     "grade_id": "cell-9c012c4d7a197d7d",
     "locked": true,
     "schema_version": 1,
     "solution": false
    }
   },
   "source": [
    "> **Note for [MS Analytics](http://analytics.gatech.edu) students.** In this course we assume you are using [Vocareum's deployment](https://www.vocareum.com/) of Jupyter. You also have an option to use other Jupyter environments, including installing and running Jupyter on your own system. We can't provide technical support to you if you choose to go those routes, but if you'd like to do that anyway, we recommend [Microsoft Azure Notebooks](https://notebooks.azure.com/) as a web-hosted option or the Continuum Analytics [Anaconda distribution](https://www.continuum.io/downloads) as a locally installed option."
   ]
  },
  {
   "cell_type": "markdown",
   "metadata": {
    "nbgrader": {
     "grade": false,
     "grade_id": "cell-92648f77b2c73f26",
     "locked": true,
     "schema_version": 1,
     "solution": false
    }
   },
   "source": [
    "**Study hint: Read the test code!** You'll notice that most of the exercises below have a place for you to code up your answer followed by a \"test cell.\" That's a code cell that checks the output of your code to see whether it appears to produce correct results. You can often learn a lot by reading the test code. In fact, sometimes it gives you a hint about how to approach the problem. As such, we encourage you to try to read the test cells even if they seem cryptic, which is deliberate!"
   ]
  },
  {
   "cell_type": "markdown",
   "metadata": {
    "nbgrader": {
     "grade": false,
     "grade_id": "cell-9a91d97e7aa9c67f",
     "locked": true,
     "schema_version": 1,
     "solution": false
    }
   },
   "source": [
    "**Exercise 0** (1 point). Run the code cell below. It should display the output string, `Hello, world!`."
   ]
  },
  {
   "cell_type": "code",
   "execution_count": 1,
   "metadata": {
    "nbgrader": {
     "grade": true,
     "grade_id": "hello_world_test",
     "locked": true,
     "points": 1,
     "schema_version": 1,
     "solution": false
    }
   },
   "outputs": [
    {
     "name": "stdout",
     "output_type": "stream",
     "text": [
      "Hello, world!\n"
     ]
    }
   ],
   "source": [
    "print(\"Hello, world!\")"
   ]
  },
  {
   "cell_type": "markdown",
   "metadata": {
    "nbgrader": {
     "grade": false,
     "grade_id": "cell-2de1352e57946ac5",
     "locked": true,
     "schema_version": 1,
     "solution": false
    }
   },
   "source": [
    "**Exercise 1** (`x_float_test`: 1 point). Create a variable named `x_float` whose numerical value is one (1) and whose type is *floating-point*."
   ]
  },
  {
   "cell_type": "code",
   "execution_count": 2,
   "metadata": {
    "collapsed": true,
    "nbgrader": {
     "grade": false,
     "grade_id": "x_float",
     "locked": false,
     "schema_version": 1,
     "solution": true
    }
   },
   "outputs": [],
   "source": [
    "#\n",
    "x_float = 1.0\n",
    "#\n"
   ]
  },
  {
   "cell_type": "code",
   "execution_count": 3,
   "metadata": {
    "nbgrader": {
     "grade": true,
     "grade_id": "x_float_test",
     "locked": true,
     "points": 1,
     "schema_version": 1,
     "solution": false
    }
   },
   "outputs": [
    {
     "name": "stdout",
     "output_type": "stream",
     "text": [
      "\n",
      "(Passed!)\n"
     ]
    }
   ],
   "source": [
    "# `x_float_test`: Test cell\n",
    "assert x_float == 1\n",
    "assert type(x_float) is float\n",
    "print(\"\\n(Passed!)\")"
   ]
  },
  {
   "cell_type": "markdown",
   "metadata": {
    "nbgrader": {
     "grade": false,
     "grade_id": "cell-2b53cd92e2ac58a1",
     "locked": true,
     "schema_version": 1,
     "solution": false
    }
   },
   "source": [
    "**Exercise 2** (`strcat_ba_test`: 1 point). Complete the following function, `strcat_ba(a, b)`, so that given two strings, `a` and `b`, it returns the concatenation of `b` followed by `a` (pay attention to the order in these instructions!)."
   ]
  },
  {
   "cell_type": "code",
   "execution_count": 4,
   "metadata": {
    "collapsed": true,
    "nbgrader": {
     "grade": false,
     "grade_id": "strcat_ba",
     "locked": false,
     "schema_version": 1,
     "solution": true
    }
   },
   "outputs": [],
   "source": [
    "def strcat_ba(a, b):\n",
    "    assert type(a) is str\n",
    "    assert type(b) is str\n",
    "    return b+a\n"
   ]
  },
  {
   "cell_type": "code",
   "execution_count": 5,
   "metadata": {
    "nbgrader": {
     "grade": true,
     "grade_id": "strcat_ba_test",
     "locked": true,
     "points": 1,
     "schema_version": 1,
     "solution": false
    }
   },
   "outputs": [
    {
     "name": "stdout",
     "output_type": "stream",
     "text": [
      "strcat_ba(\"ohdgs\", \"txz\") == \"txzohdgs\"\n",
      "\n",
      "(Passed!)\n"
     ]
    }
   ],
   "source": [
    "# `strcat_ba_test`: Test cell\n",
    "\n",
    "# Workaround:  # Python 3.5.2 does not have `random.choices()` (available in 3.6+)\n",
    "def random_letter():\n",
    "    from random import choice\n",
    "    return choice('abcdefghijklmnopqrstuvwxyz')\n",
    "\n",
    "def random_string(n, fun=random_letter):\n",
    "    return ''.join([str(fun()) for _ in range(n)])\n",
    "\n",
    "a = random_string(5)\n",
    "b = random_string(3)\n",
    "c = strcat_ba(a, b)\n",
    "print('strcat_ba(\"{}\", \"{}\") == \"{}\"'.format(a, b, c))\n",
    "assert len(c) == len(a) + len(b)\n",
    "assert c[:len(b)] == b\n",
    "assert c[-len(a):] == a\n",
    "print(\"\\n(Passed!)\")"
   ]
  },
  {
   "cell_type": "markdown",
   "metadata": {
    "nbgrader": {
     "grade": false,
     "grade_id": "cell-75fe9a45cd6b3f9a",
     "locked": true,
     "schema_version": 1,
     "solution": false
    }
   },
   "source": [
    "**Exercise 3** (`strcat_list_test`: 2 points). Complete the following function, `strcat_list(L)`, which generalizes the previous function: given a *list* of strings, `L[:]`, returns the concatenation of the strings in reverse order. For example:\n",
    "\n",
    "```python\n",
    "    strcat_list(['abc', 'def', 'ghi']) == 'ghidefabc'\n",
    "```"
   ]
  },
  {
   "cell_type": "code",
   "execution_count": 6,
   "metadata": {
    "nbgrader": {
     "grade": false,
     "grade_id": "strcat_list",
     "locked": false,
     "schema_version": 1,
     "solution": true
    }
   },
   "outputs": [],
   "source": [
    "def strcat_list(L):\n",
    "    assert type(L) is list\n",
    "    return ''.join(map(str, L[::-1]))\n",
    "    # YOUR CODE HERE\n",
    "    #\n"
   ]
  },
  {
   "cell_type": "code",
   "execution_count": 7,
   "metadata": {
    "nbgrader": {
     "grade": true,
     "grade_id": "strcat_list_test",
     "locked": true,
     "points": 2,
     "schema_version": 1,
     "solution": false
    }
   },
   "outputs": [
    {
     "name": "stdout",
     "output_type": "stream",
     "text": [
      "L == ['abu', 'uro', 'owo', 'jgq', 'ctp', 'chd']\n",
      "strcat_list(L) == 'chdctpjgqowouroabu'\n",
      "\n",
      "(Passed!)\n"
     ]
    }
   ],
   "source": [
    "# `strcat_list_test`: Test cell\n",
    "n = 3\n",
    "nL = 6\n",
    "L = [random_string(n) for _ in range(nL)]\n",
    "Lc = strcat_list(L)\n",
    "\n",
    "print('L == {}'.format(L))\n",
    "print('strcat_list(L) == \\'{}\\''.format(Lc))\n",
    "assert all([Lc[i*n:(i+1)*n] == L[nL-i-1] for i, x in zip(range(nL), L)])\n",
    "print(\"\\n(Passed!)\")"
   ]
  },
  {
   "cell_type": "markdown",
   "metadata": {
    "nbgrader": {
     "grade": false,
     "grade_id": "cell-06e37dd37379b6b8",
     "locked": true,
     "schema_version": 1,
     "solution": false
    }
   },
   "source": [
    "**Exercise 4** (`floor_fraction_test`: 1 point). Suppose you are given two variables, `a` and `b`, whose values are the real numbers, $a \\geq 0$ (non-negative) and $b > 0$ (positive). Complete the function, `floor_fraction(a, b)` so that it returns $\\left\\lfloor\\frac{a}{b}\\right\\rfloor$, that is, the *floor* of $\\frac{a}{b}$. The *type* of the returned value must be `int` (an integer)."
   ]
  },
  {
   "cell_type": "code",
   "execution_count": 8,
   "metadata": {
    "collapsed": true,
    "nbgrader": {
     "grade": false,
     "grade_id": "floor_fraction",
     "locked": false,
     "schema_version": 1,
     "solution": true
    }
   },
   "outputs": [],
   "source": [
    "def is_number(x):\n",
    "    \"\"\"Returns `True` if `x` is a number-like type, e.g., `int`, `float`, `Decimal()`, ...\"\"\"\n",
    "    from numbers import Number\n",
    "    return isinstance(x, Number)\n",
    "    \n",
    "def floor_fraction(a, b):\n",
    "    assert is_number(a) and a >= 0\n",
    "    assert is_number(b) and b > 0\n",
    "    return int(a//b)\n"
   ]
  },
  {
   "cell_type": "code",
   "execution_count": 9,
   "metadata": {
    "nbgrader": {
     "grade": true,
     "grade_id": "floor_fraction_test",
     "locked": true,
     "points": 1,
     "schema_version": 1,
     "solution": false
    }
   },
   "outputs": [
    {
     "name": "stdout",
     "output_type": "stream",
     "text": [
      "floor_fraction(0.9692531916941763, 0.1508861916445391) == floor(6.423736865051002) == 6\n",
      "\n",
      "(Passed!)\n"
     ]
    }
   ],
   "source": [
    "# `floor_fraction_test`: Test cell\n",
    "from random import random\n",
    "a = random()\n",
    "b = random()\n",
    "c = floor_fraction(a, b)\n",
    "\n",
    "print('floor_fraction({}, {}) == floor({}) == {}'.format(a, b, a/b, c))\n",
    "assert b*c <= a <= b*(c+1)\n",
    "assert type(c) is int\n",
    "print('\\n(Passed!)')"
   ]
  },
  {
   "cell_type": "markdown",
   "metadata": {
    "nbgrader": {
     "grade": false,
     "grade_id": "cell-e98590d39e95bc25",
     "locked": true,
     "schema_version": 1,
     "solution": false
    }
   },
   "source": [
    "**Exercise 5** (`ceiling_fraction_test`: 1 point). Complete the function, `ceiling_fraction(a, b)`, which for any numeric inputs, `a` and `b`, corresponding to real numbers, $a \\geq 0$ and $b > 0$, returns $\\left\\lceil\\frac{a}{b}\\right\\rceil$, that is, the *ceiling* of $\\frac{a}{b}$. The type of the returned value must be `int`."
   ]
  },
  {
   "cell_type": "code",
   "execution_count": 10,
   "metadata": {
    "collapsed": true,
    "nbgrader": {
     "grade": false,
     "grade_id": "ceiling_fraction",
     "locked": false,
     "schema_version": 1,
     "solution": true
    }
   },
   "outputs": [],
   "source": [
    "def ceiling_fraction(a, b):\n",
    "    assert is_number(a) and a >= 0\n",
    "    assert is_number(b) and b > 0\n",
    "    return int(-(-a//b))\n"
   ]
  },
  {
   "cell_type": "code",
   "execution_count": 11,
   "metadata": {
    "nbgrader": {
     "grade": true,
     "grade_id": "ceiling_fraction_test",
     "locked": true,
     "points": 1,
     "schema_version": 1,
     "solution": false
    }
   },
   "outputs": [
    {
     "name": "stdout",
     "output_type": "stream",
     "text": [
      "ceiling_fraction(0.7149472844218584, 0.4849314160513125) == ceiling(1.4743265970340989) == 2\n",
      "\n",
      "(Passed!)\n"
     ]
    }
   ],
   "source": [
    "# `ceiling_fraction_test`: Test cell\n",
    "from random import random\n",
    "a = random()\n",
    "b = random()\n",
    "c = ceiling_fraction(a, b)\n",
    "print('ceiling_fraction({}, {}) == ceiling({}) == {}'.format(a, b, a/b, c))\n",
    "assert b*(c-1) <= a <= b*c\n",
    "assert type(c) is int\n",
    "print(\"\\n(Passed!)\")"
   ]
  },
  {
   "cell_type": "markdown",
   "metadata": {},
   "source": [
    "**Exercise 6** (`report_exam_avg_test`: 1 point). Let `a`, `b`, and `c` represent three exam scores as numerical values. Complete the function, `report_exam_avg(a, b, c)` so that it computes the average score (equally weighted) and returns the string, `'Your average score: XX'`, where `XX` is the average rounded to one decimal place. For example:\n",
    "\n",
    "```python\n",
    "    report_exam_avg(100, 95, 80) == 'Your average score: 91.7'\n",
    "```"
   ]
  },
  {
   "cell_type": "code",
   "execution_count": 12,
   "metadata": {
    "collapsed": true,
    "nbgrader": {
     "grade": false,
     "grade_id": "cell-a117d6495f42b850",
     "locked": false,
     "schema_version": 1,
     "solution": true
    }
   },
   "outputs": [],
   "source": [
    "def report_exam_avg(a, b, c):\n",
    "    assert is_number(a) and is_number(b) and is_number(c)\n",
    "    avg = (a+b+c)/3\n",
    "    return ('Your average score: '+str(round(avg, 1)))"
   ]
  },
  {
   "cell_type": "code",
   "execution_count": 13,
   "metadata": {},
   "outputs": [
    {
     "data": {
      "text/plain": [
       "True"
      ]
     },
     "execution_count": 13,
     "metadata": {},
     "output_type": "execute_result"
    }
   ],
   "source": [
    "report_exam_avg(100, 95, 80) == 'Your average score: 91.7'"
   ]
  },
  {
   "cell_type": "code",
   "execution_count": 14,
   "metadata": {
    "nbgrader": {
     "grade": true,
     "grade_id": "report_exam_avg_test",
     "locked": true,
     "points": 1,
     "schema_version": 1,
     "solution": false
    }
   },
   "outputs": [
    {
     "name": "stdout",
     "output_type": "stream",
     "text": [
      "Your average score: 91.7\n",
      "Checking some additional randomly generated cases:\n",
      "64.94466824640187, 73.66022933552964, 37.348528213301535 -> 'Your average score: 58.7' [0.04885806825565927]\n",
      "77.32752571978256, 32.98429759495885, 70.65030080561338 -> 'Your average score: 60.3' [0.020708040118279314]\n",
      "5.7496990291856065, 84.22817010848334, 22.946152265873966 -> 'Your average score: 37.6' [0.04134046784763257]\n",
      "34.75229538542377, 16.468900448085034, 22.30798734029056 -> 'Your average score: 24.5' [0.009727724599789175]\n",
      "71.15081140787342, 9.02928603533083, 21.1105053994483 -> 'Your average score: 33.8' [0.03646571911581494]\n",
      "20.63086883054528, 10.015749919251437, 24.62620410776414 -> 'Your average score: 18.4' [0.02427428585361942]\n",
      "1.159243427536094, 26.404122513706486, 82.4992187767738 -> 'Your average score: 36.7' [0.012471760661208956]\n",
      "98.69852045848162, 17.83512124180583, 7.910293536407864 -> 'Your average score: 41.5' [0.01868825443489186]\n",
      "44.82150107262137, 53.84946092132387, 56.128782462396906 -> 'Your average score: 51.6' [8.518121928583848e-05]\n",
      "12.652336993302294, 55.45013888312774, 80.57817902540306 -> 'Your average score: 49.6' [0.039781699388972434]\n",
      "\n",
      "(Passed!)\n"
     ]
    }
   ],
   "source": [
    "# `report_exam_avg_test`: Test cell\n",
    "msg = report_exam_avg(100, 95, 80)\n",
    "print(msg)\n",
    "assert msg == 'Your average score: 91.7'\n",
    "\n",
    "print(\"Checking some additional randomly generated cases:\")\n",
    "for _ in range(10):\n",
    "    ex1 = random() * 100\n",
    "    ex2 = random() * 100\n",
    "    ex3 = random() * 100\n",
    "    msg = report_exam_avg(ex1, ex2, ex3)\n",
    "    ex_rounded_avg = float(msg.split()[-1])\n",
    "    abs_err = abs(ex_rounded_avg*3 - (ex1 + ex2 + ex3)) / 3\n",
    "    print(\"{}, {}, {} -> '{}' [{}]\".format(ex1, ex2, ex3, msg, abs_err))\n",
    "    assert abs_err <= 0.05\n",
    "\n",
    "print(\"\\n(Passed!)\")"
   ]
  },
  {
   "cell_type": "markdown",
   "metadata": {
    "nbgrader": {
     "grade": false,
     "grade_id": "cell-24a78862d8e3bba0",
     "locked": true,
     "schema_version": 1,
     "solution": false
    }
   },
   "source": [
    "**Exercise 7** (`count_word_lengths_test`: 2 points). Write a function `count_word_lengths(s)` that, given a string consisting of words separated by spaces, returns a list containing the length of each word. Words will consist of lowercase alphabetic characters, and they may be separated by multiple consecutive spaces. If a string is empty or has no spaces, the function should return an empty list.\n",
    "\n",
    "For instance, in this code sample,\n",
    "\n",
    "```python\n",
    "   count_word_lengths('the quick  brown   fox jumped over     the lazy  dog') == [3, 5, 5, 3, 6, 4, 3, 4, 3]`\n",
    "```\n",
    "\n",
    "the input string consists of nine (9) words whose respective lengths are shown in the list."
   ]
  },
  {
   "cell_type": "code",
   "execution_count": 15,
   "metadata": {},
   "outputs": [
    {
     "data": {
      "text/plain": [
       "5"
      ]
     },
     "execution_count": 15,
     "metadata": {},
     "output_type": "execute_result"
    }
   ],
   "source": [
    "len('the quick  brown   fox jumped over     the lazy  dog'.split()[1])"
   ]
  },
  {
   "cell_type": "code",
   "execution_count": 16,
   "metadata": {
    "collapsed": true,
    "nbgrader": {
     "grade": false,
     "grade_id": "count_word_lengths",
     "locked": false,
     "schema_version": 1,
     "solution": true
    }
   },
   "outputs": [],
   "source": [
    "def count_word_lengths(s):\n",
    "    assert all([x.isalpha() or x == ' ' for x in s])\n",
    "    assert type(s) is str\n",
    "    return [len(x) for x in s.split()]\n",
    "    # YOUR CODE HERE\n",
    "    #\n"
   ]
  },
  {
   "cell_type": "code",
   "execution_count": 17,
   "metadata": {
    "nbgrader": {
     "grade": true,
     "grade_id": "count_word_lengths_test",
     "locked": true,
     "points": 2,
     "schema_version": 1,
     "solution": false
    }
   },
   "outputs": [
    {
     "name": "stdout",
     "output_type": "stream",
     "text": [
      "Test 1: count_word_lengths('the quick brown fox jumped over the lazy dog') == [3, 5, 5, 3, 6, 4, 3, 4, 3]\n",
      "Test 2: count_word_lengths('ofka pguxspkbjzngbgxqidzsnmjhej ulucaiou') == '[4, 26, 8]'\n",
      "  => 'ofka'\n",
      "  => 'pguxspkbjzngbgxqidzsnmjhej'\n",
      "  => 'ulucaiou'\n",
      "Test 3: Empty strings...\n",
      "\n",
      "(Passed!)\n"
     ]
    }
   ],
   "source": [
    "# `count_word_lengths_test`: Test cell\n",
    "\n",
    "# Test 1: Example\n",
    "qbf_str = 'the quick brown fox jumped over the lazy dog'\n",
    "qbf_lens = count_word_lengths(qbf_str)\n",
    "print(\"Test 1: count_word_lengths('{}') == {}\".format(qbf_str, qbf_lens))\n",
    "assert qbf_lens == [3, 5, 5, 3, 6, 4, 3, 4, 3]\n",
    "\n",
    "# Test 2: Random strings\n",
    "from random import choice # 3.5.2 does not have `choices()` (available in 3.6+)\n",
    "#return ''.join([choice('abcdefghijklmnopqrstuvwxyz') for _ in range(n)])\n",
    "\n",
    "def random_letter_or_space(pr_space=0.15):\n",
    "    from random import choice, random\n",
    "    is_space = (random() <= pr_space)\n",
    "    if is_space:\n",
    "        return ' '\n",
    "    return random_letter()\n",
    "\n",
    "S_LEN = 40\n",
    "W_SPACE = 1 / 6\n",
    "rand_str = random_string(S_LEN, fun=random_letter_or_space)\n",
    "rand_lens = count_word_lengths(rand_str)\n",
    "print(\"Test 2: count_word_lengths('{}') == '{}'\".format(rand_str, rand_lens))\n",
    "c = 0\n",
    "while c < len(rand_str) and rand_str[c] == ' ':\n",
    "    c += 1\n",
    "for k in rand_lens:\n",
    "    print(\"  => '{}'\".format (rand_str[c:c+k]))\n",
    "    assert (c+k) == len(rand_str) or rand_str[c+k] == ' '\n",
    "    c += k\n",
    "    while c < len(rand_str) and rand_str[c] == ' ':\n",
    "        c += 1\n",
    "    \n",
    "# Test 3: Empty string\n",
    "print(\"Test 3: Empty strings...\")\n",
    "assert count_word_lengths('') == []\n",
    "assert count_word_lengths('   ') == []\n",
    "\n",
    "print(\"\\n(Passed!)\")"
   ]
  },
  {
   "cell_type": "markdown",
   "metadata": {},
   "source": [
    "**Fin!** You've reached the end of this part. Don't forget to restart and run all cells again to make sure it's all working when run in sequence; and make sure your work passes the submission process. Good luck!"
   ]
  },
  {
   "cell_type": "code",
   "execution_count": null,
   "metadata": {
    "collapsed": true
   },
   "outputs": [],
   "source": []
  }
 ],
 "metadata": {
  "celltoolbar": "Create Assignment",
  "kernelspec": {
   "display_name": "Python 3",
   "language": "python",
   "name": "python3"
  },
  "language_info": {
   "codemirror_mode": {
    "name": "ipython",
    "version": 3
   },
   "file_extension": ".py",
   "mimetype": "text/x-python",
   "name": "python",
   "nbconvert_exporter": "python",
   "pygments_lexer": "ipython3",
   "version": "3.7.6"
  }
 },
 "nbformat": 4,
 "nbformat_minor": 2
}
