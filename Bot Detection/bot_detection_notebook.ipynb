{
 "cells": [
  {
   "cell_type": "markdown",
   "metadata": {},
   "source": [
    "# Bot Detection -- Comparing Classifiers\n",
    "## ISYE6740 ML Project Spring 2021\n",
    "### Katherine Barthelson, Daniel Tylutki, Elizabeth Yates"
   ]
  },
  {
   "cell_type": "code",
   "execution_count": 36,
   "metadata": {},
   "outputs": [],
   "source": [
    "import numpy as np\n",
    "import pandas as pd\n",
    "from sklearn.model_selection import train_test_split\n",
    "from sklearn.naive_bayes import GaussianNB\n",
    "from sklearn.metrics import confusion_matrix, accuracy_score, precision_score, recall_score, roc_auc_score, f1_score\n",
    "import matplotlib.pyplot as plt\n",
    "import seaborn as sns\n",
    "from sklearn import preprocessing\n",
    "\n",
    "import numpy as np\n",
    "import matplotlib.pyplot as plt\n",
    "from matplotlib.colors import ListedColormap\n",
    "from sklearn.model_selection import train_test_split\n",
    "from sklearn.preprocessing import StandardScaler\n",
    "from sklearn.datasets import make_moons, make_circles, make_classification\n",
    "from sklearn.neural_network import MLPClassifier\n",
    "from sklearn.neighbors import KNeighborsClassifier\n",
    "from sklearn.linear_model import LogisticRegression\n",
    "from sklearn.svm import SVC\n",
    "from sklearn.gaussian_process import GaussianProcessClassifier\n",
    "from sklearn.gaussian_process.kernels import RBF\n",
    "from sklearn.tree import DecisionTreeClassifier\n",
    "from sklearn.ensemble import RandomForestClassifier, AdaBoostClassifier\n",
    "from sklearn.model_selection import GridSearchCV\n",
    "from sklearn.naive_bayes import GaussianNB\n",
    "from sklearn.discriminant_analysis import QuadraticDiscriminantAnalysis\n",
    "from numpy import inf\n",
    "from sklearn.svm import SVC"
   ]
  },
  {
   "cell_type": "code",
   "execution_count": 37,
   "metadata": {},
   "outputs": [],
   "source": [
    "with open('reddit_bots_train_gold.csv') as f:\n",
    "    data = pd.read_csv(f, sep=',', dtype={\n",
    "        \"banned_by\": str,\n",
    "        \"no_follow\": np.float64,\n",
    "        \"link_id\": str,\n",
    "        \"gilded\": np.float64,\n",
    "        \"author\": str,\n",
    "        \"author_verified\": np.float64,\n",
    "        \"author_comment_karma\": np.float64,\n",
    "        \"author_link_karma\": np.float64,\n",
    "        \"num_comments\": np.float64,\n",
    "        \"created_utc\": np.float64,\n",
    "        \"score\": np.float64,\n",
    "        \"over_18\": np.float64,\n",
    "        \"body\": str,\n",
    "        \"downs\": np.float64,\n",
    "        \"is_submitter\": np.float64,\n",
    "        \"num_reports\": np.float64,\n",
    "        \"controversiality\": np.float64,\n",
    "        \"quarantine\": np.float64,\n",
    "        \"ups\": np.float64,\n",
    "        \"is_bot\": np.float64,\n",
    "        \"is_troll\": np.float64,\n",
    "        \"recent_comments\": str})"
   ]
  },
  {
   "cell_type": "code",
   "execution_count": 38,
   "metadata": {},
   "outputs": [
    {
     "name": "stdout",
     "output_type": "stream",
     "text": [
      "761890\n"
     ]
    }
   ],
   "source": [
    "print(len(data))"
   ]
  },
  {
   "cell_type": "code",
   "execution_count": 39,
   "metadata": {},
   "outputs": [
    {
     "data": {
      "text/html": [
       "<div>\n",
       "<style scoped>\n",
       "    .dataframe tbody tr th:only-of-type {\n",
       "        vertical-align: middle;\n",
       "    }\n",
       "\n",
       "    .dataframe tbody tr th {\n",
       "        vertical-align: top;\n",
       "    }\n",
       "\n",
       "    .dataframe thead th {\n",
       "        text-align: right;\n",
       "    }\n",
       "</style>\n",
       "<table border=\"1\" class=\"dataframe\">\n",
       "  <thead>\n",
       "    <tr style=\"text-align: right;\">\n",
       "      <th></th>\n",
       "      <th>Unnamed: 0</th>\n",
       "      <th>author</th>\n",
       "      <th>author_verified</th>\n",
       "      <th>author_comment_karma</th>\n",
       "      <th>author_link_karma</th>\n",
       "      <th>author_%_is_submitter</th>\n",
       "      <th>author_avg_num_comments</th>\n",
       "      <th>author_%_no_follow</th>\n",
       "      <th>author_%_gilded</th>\n",
       "      <th>author_avg_score</th>\n",
       "      <th>...</th>\n",
       "      <th>gilded</th>\n",
       "      <th>created_utc</th>\n",
       "      <th>score</th>\n",
       "      <th>over_18</th>\n",
       "      <th>ups</th>\n",
       "      <th>downs</th>\n",
       "      <th>controversiality</th>\n",
       "      <th>quarantine</th>\n",
       "      <th>is_bot</th>\n",
       "      <th>is_troll</th>\n",
       "    </tr>\n",
       "  </thead>\n",
       "  <tbody>\n",
       "    <tr>\n",
       "      <th>0</th>\n",
       "      <td>0</td>\n",
       "      <td>ADHDbot</td>\n",
       "      <td>0.0</td>\n",
       "      <td>-6.0</td>\n",
       "      <td>1.0</td>\n",
       "      <td>0.0</td>\n",
       "      <td>2.556886</td>\n",
       "      <td>1.0</td>\n",
       "      <td>0.0</td>\n",
       "      <td>0.971058</td>\n",
       "      <td>...</td>\n",
       "      <td>0.0</td>\n",
       "      <td>1.415027e+09</td>\n",
       "      <td>1.0</td>\n",
       "      <td>0.0</td>\n",
       "      <td>1.0</td>\n",
       "      <td>0.0</td>\n",
       "      <td>0.0</td>\n",
       "      <td>0.0</td>\n",
       "      <td>1.0</td>\n",
       "      <td>0.0</td>\n",
       "    </tr>\n",
       "    <tr>\n",
       "      <th>1</th>\n",
       "      <td>1</td>\n",
       "      <td>ADHDbot</td>\n",
       "      <td>0.0</td>\n",
       "      <td>-6.0</td>\n",
       "      <td>1.0</td>\n",
       "      <td>0.0</td>\n",
       "      <td>2.556886</td>\n",
       "      <td>1.0</td>\n",
       "      <td>0.0</td>\n",
       "      <td>0.971058</td>\n",
       "      <td>...</td>\n",
       "      <td>0.0</td>\n",
       "      <td>1.415032e+09</td>\n",
       "      <td>1.0</td>\n",
       "      <td>0.0</td>\n",
       "      <td>1.0</td>\n",
       "      <td>0.0</td>\n",
       "      <td>0.0</td>\n",
       "      <td>0.0</td>\n",
       "      <td>1.0</td>\n",
       "      <td>0.0</td>\n",
       "    </tr>\n",
       "    <tr>\n",
       "      <th>2</th>\n",
       "      <td>2</td>\n",
       "      <td>ADHDbot</td>\n",
       "      <td>0.0</td>\n",
       "      <td>-6.0</td>\n",
       "      <td>1.0</td>\n",
       "      <td>0.0</td>\n",
       "      <td>2.556886</td>\n",
       "      <td>1.0</td>\n",
       "      <td>0.0</td>\n",
       "      <td>0.971058</td>\n",
       "      <td>...</td>\n",
       "      <td>0.0</td>\n",
       "      <td>1.415060e+09</td>\n",
       "      <td>1.0</td>\n",
       "      <td>0.0</td>\n",
       "      <td>1.0</td>\n",
       "      <td>0.0</td>\n",
       "      <td>0.0</td>\n",
       "      <td>0.0</td>\n",
       "      <td>1.0</td>\n",
       "      <td>0.0</td>\n",
       "    </tr>\n",
       "    <tr>\n",
       "      <th>3</th>\n",
       "      <td>3</td>\n",
       "      <td>ADHDbot</td>\n",
       "      <td>0.0</td>\n",
       "      <td>-6.0</td>\n",
       "      <td>1.0</td>\n",
       "      <td>0.0</td>\n",
       "      <td>2.556886</td>\n",
       "      <td>1.0</td>\n",
       "      <td>0.0</td>\n",
       "      <td>0.971058</td>\n",
       "      <td>...</td>\n",
       "      <td>0.0</td>\n",
       "      <td>1.415064e+09</td>\n",
       "      <td>1.0</td>\n",
       "      <td>0.0</td>\n",
       "      <td>1.0</td>\n",
       "      <td>0.0</td>\n",
       "      <td>0.0</td>\n",
       "      <td>0.0</td>\n",
       "      <td>1.0</td>\n",
       "      <td>0.0</td>\n",
       "    </tr>\n",
       "    <tr>\n",
       "      <th>4</th>\n",
       "      <td>4</td>\n",
       "      <td>ADHDbot</td>\n",
       "      <td>0.0</td>\n",
       "      <td>-6.0</td>\n",
       "      <td>1.0</td>\n",
       "      <td>0.0</td>\n",
       "      <td>2.556886</td>\n",
       "      <td>1.0</td>\n",
       "      <td>0.0</td>\n",
       "      <td>0.971058</td>\n",
       "      <td>...</td>\n",
       "      <td>0.0</td>\n",
       "      <td>1.415096e+09</td>\n",
       "      <td>1.0</td>\n",
       "      <td>0.0</td>\n",
       "      <td>1.0</td>\n",
       "      <td>0.0</td>\n",
       "      <td>0.0</td>\n",
       "      <td>0.0</td>\n",
       "      <td>1.0</td>\n",
       "      <td>0.0</td>\n",
       "    </tr>\n",
       "  </tbody>\n",
       "</table>\n",
       "<p>5 rows × 30 columns</p>\n",
       "</div>"
      ],
      "text/plain": [
       "   Unnamed: 0   author  author_verified  author_comment_karma  \\\n",
       "0           0  ADHDbot              0.0                  -6.0   \n",
       "1           1  ADHDbot              0.0                  -6.0   \n",
       "2           2  ADHDbot              0.0                  -6.0   \n",
       "3           3  ADHDbot              0.0                  -6.0   \n",
       "4           4  ADHDbot              0.0                  -6.0   \n",
       "\n",
       "   author_link_karma  author_%_is_submitter  author_avg_num_comments  \\\n",
       "0                1.0                    0.0                 2.556886   \n",
       "1                1.0                    0.0                 2.556886   \n",
       "2                1.0                    0.0                 2.556886   \n",
       "3                1.0                    0.0                 2.556886   \n",
       "4                1.0                    0.0                 2.556886   \n",
       "\n",
       "   author_%_no_follow  author_%_gilded  author_avg_score  ...  gilded  \\\n",
       "0                 1.0              0.0          0.971058  ...     0.0   \n",
       "1                 1.0              0.0          0.971058  ...     0.0   \n",
       "2                 1.0              0.0          0.971058  ...     0.0   \n",
       "3                 1.0              0.0          0.971058  ...     0.0   \n",
       "4                 1.0              0.0          0.971058  ...     0.0   \n",
       "\n",
       "    created_utc  score  over_18  ups  downs  controversiality quarantine  \\\n",
       "0  1.415027e+09    1.0      0.0  1.0    0.0               0.0        0.0   \n",
       "1  1.415032e+09    1.0      0.0  1.0    0.0               0.0        0.0   \n",
       "2  1.415060e+09    1.0      0.0  1.0    0.0               0.0        0.0   \n",
       "3  1.415064e+09    1.0      0.0  1.0    0.0               0.0        0.0   \n",
       "4  1.415096e+09    1.0      0.0  1.0    0.0               0.0        0.0   \n",
       "\n",
       "   is_bot  is_troll  \n",
       "0     1.0       0.0  \n",
       "1     1.0       0.0  \n",
       "2     1.0       0.0  \n",
       "3     1.0       0.0  \n",
       "4     1.0       0.0  \n",
       "\n",
       "[5 rows x 30 columns]"
      ]
     },
     "execution_count": 39,
     "metadata": {},
     "output_type": "execute_result"
    }
   ],
   "source": [
    "data.head()"
   ]
  },
  {
   "cell_type": "code",
   "execution_count": 40,
   "metadata": {},
   "outputs": [
    {
     "data": {
      "text/plain": [
       "0         1.0\n",
       "1         1.0\n",
       "2         1.0\n",
       "3         1.0\n",
       "4         1.0\n",
       "         ... \n",
       "761885    0.0\n",
       "761886    0.0\n",
       "761887    0.0\n",
       "761888    0.0\n",
       "761889    0.0\n",
       "Name: is_bot, Length: 761890, dtype: float64"
      ]
     },
     "execution_count": 40,
     "metadata": {},
     "output_type": "execute_result"
    }
   ],
   "source": [
    "features = data.drop(['Unnamed: 0', 'is_bot', 'author', 'body', 'created_utc'], axis=1)\n",
    "\n",
    "#data = data.reset_index()\n",
    "\n",
    "labels = data['is_bot']\n",
    "labels"
   ]
  },
  {
   "cell_type": "code",
   "execution_count": 41,
   "metadata": {},
   "outputs": [
    {
     "data": {
      "image/png": "[encoded data removed]",
      "text/plain": [
       "<Figure size 432x288 with 1 Axes>"
      ]
     },
     "metadata": {
      "needs_background": "light"
     },
     "output_type": "display_data"
    },
    {
     "data": {
      "image/png": "[encoded data removed]",
      "text/plain": [
       "<Figure size 432x288 with 1 Axes>"
      ]
     },
     "metadata": {
      "needs_background": "light"
     },
     "output_type": "display_data"
    },
    {
     "data": {
      "image/png": "[encoded data removed]",
      "text/plain": [
       "<Figure size 432x288 with 1 Axes>"
      ]
     },
     "metadata": {
      "needs_background": "light"
     },
     "output_type": "display_data"
    }
   ],
   "source": [
    "x = ['True', 'False']\n",
    "Bot = [len(data[data['is_bot']==True]),len(data[data['is_bot']==False])]\n",
    "\n",
    "x_pos = [i for i, _ in enumerate(x)]\n",
    "\n",
    "plt.bar(x_pos, Bot, color='green')\n",
    "plt.xlabel(\"Bot\")\n",
    "plt.ylabel(\"Number of Comments\")\n",
    "plt.title(\"Reddit Bots\")\n",
    "\n",
    "plt.xticks(x_pos, x)\n",
    "\n",
    "plt.show()\n",
    "\n",
    "x = ['True', 'False']\n",
    "Troll = [len(data[data['is_troll']==True]),len(data[data['is_troll']==False])]\n",
    "\n",
    "x_pos = [i for i, _ in enumerate(x)]\n",
    "\n",
    "plt.bar(x_pos, Troll, color='green')\n",
    "plt.xlabel(\"Troll\")\n",
    "plt.ylabel(\"Number of Comments\")\n",
    "plt.title(\"Reddit Trolls\")\n",
    "\n",
    "plt.xticks(x_pos, x)\n",
    "\n",
    "plt.show()\n",
    "\n",
    "x = ['True', 'False']\n",
    "Troll = [len(data[data['is_troll']==True]),len(data[data['is_troll']==False])]\n",
    "\n",
    "x_pos = [i for i, _ in enumerate(x)]\n",
    "\n",
    "plt.bar(x_pos, Troll, color='green')\n",
    "plt.xlabel(\"Troll\")\n",
    "plt.ylabel(\"Number of Comments\")\n",
    "plt.title(\"Reddit No Followers\")\n",
    "\n",
    "plt.xticks(x_pos, x)\n",
    "\n",
    "plt.show()"
   ]
  },
  {
   "cell_type": "code",
   "execution_count": 42,
   "metadata": {},
   "outputs": [
    {
     "data": {
      "text/plain": [
       "(0.0, 20000)"
      ]
     },
     "execution_count": 42,
     "metadata": {},
     "output_type": "execute_result"
    },
    {
     "data": {
      "image/png": "[encoded data removed]",
      "text/plain": [
       "<Figure size 432x288 with 1 Axes>"
      ]
     },
     "metadata": {
      "needs_background": "light"
     },
     "output_type": "display_data"
    }
   ],
   "source": [
    "n, bins, patches = plt.hist(x=data['author_comment_karma'], bins='auto', color='#0504aa')\n",
    "plt.grid(axis='y')\n",
    "plt.xlabel('Value')\n",
    "plt.ylabel('Frequency')\n",
    "plt.title('Number of Comments')\n",
    "maxfreq = n.max()\n",
    "# Set a clean upper y-axis limit.\n",
    "plt.ylim(ymax=20000)"
   ]
  },
  {
   "cell_type": "code",
   "execution_count": 43,
   "metadata": {},
   "outputs": [
    {
     "data": {
      "image/png": "[encoded data removed]",
      "text/plain": [
       "<Figure size 432x288 with 1 Axes>"
      ]
     },
     "metadata": {
      "needs_background": "light"
     },
     "output_type": "display_data"
    }
   ],
   "source": [
    "bots_only = data[data['is_bot']==True]\n",
    "not_bots = data[data['is_bot']==False]\n",
    "n, bins, patches = plt.hist(x=not_bots['author_comment_karma'], bins='auto', color='#0504aa')\n",
    "plt.grid(axis='y')\n",
    "plt.xlabel('Value')\n",
    "plt.ylabel('Frequency')\n",
    "plt.title('Number of Comments - Not Labeled Bot')\n",
    "maxfreq = n.max()\n",
    "# Set a clean upper y-axis limit.\n",
    "#plt.ylim(ymax=20000)"
   ]
  },
  {
   "cell_type": "code",
   "execution_count": 44,
   "metadata": {},
   "outputs": [
    {
     "data": {
      "image/png": "[encoded data removed]",
      "text/plain": [
       "<Figure size 432x288 with 1 Axes>"
      ]
     },
     "metadata": {
      "needs_background": "light"
     },
     "output_type": "display_data"
    }
   ],
   "source": [
    "x = ['True', 'False']\n",
    "Bot = [len(bots_only[bots_only['over_18']==1]),len(bots_only[bots_only['over_18']==0])]\n",
    "\n",
    "x_pos = [i for i, _ in enumerate(x)]\n",
    "\n",
    "plt.bar(x_pos, Bot, color='green')\n",
    "plt.xlabel(\"Over 18\")\n",
    "plt.ylabel(\"Frequency\")\n",
    "plt.title(\"Over 18 - Labeled Bot\")\n",
    "\n",
    "plt.xticks(x_pos, x)\n",
    "\n",
    "plt.show()"
   ]
  },
  {
   "cell_type": "code",
   "execution_count": 45,
   "metadata": {},
   "outputs": [
    {
     "data": {
      "image/png": "[encoded data removed]",
      "text/plain": [
       "<Figure size 432x288 with 1 Axes>"
      ]
     },
     "metadata": {
      "needs_background": "light"
     },
     "output_type": "display_data"
    }
   ],
   "source": [
    "x = ['True', 'False']\n",
    "Bot = [len(bots_only[bots_only['controversiality']==1]),len(bots_only[bots_only['controversiality']==0])]\n",
    "\n",
    "x_pos = [i for i, _ in enumerate(x)]\n",
    "\n",
    "plt.bar(x_pos, Bot, color='green')\n",
    "plt.xlabel(\"Controversiality\")\n",
    "plt.ylabel(\"Frequency\")\n",
    "plt.title(\"Controversiality - Labeled Bot\")\n",
    "\n",
    "plt.xticks(x_pos, x)\n",
    "\n",
    "plt.show()"
   ]
  },
  {
   "cell_type": "code",
   "execution_count": 46,
   "metadata": {},
   "outputs": [
    {
     "name": "stdout",
     "output_type": "stream",
     "text": [
      "1.9022557582867017\n",
      "2.6753236320836264\n",
      "1.5519236561355674\n",
      "1.9341961193836976\n",
      "87.44775401719428\n",
      "64.72851227907188\n"
     ]
    }
   ],
   "source": [
    "print(100*len(bots_only[bots_only['over_18']==1])/len(bots_only))\n",
    "print(100*len(not_bots[not_bots['over_18']==1])/len(not_bots))\n",
    "\n",
    "print(100*len(bots_only[bots_only['controversiality']==1])/len(bots_only))\n",
    "print(100*len(not_bots[not_bots['controversiality']==1])/len(not_bots))\n",
    "\n",
    "print(100*len(bots_only[bots_only[\"no_follow\"]==1])/len(bots_only))\n",
    "print(100*len(not_bots[not_bots[\"no_follow\"]==1])/len(not_bots))"
   ]
  },
  {
   "cell_type": "code",
   "execution_count": 47,
   "metadata": {},
   "outputs": [
    {
     "data": {
      "image/png": "[encoded data removed]",
      "text/plain": [
       "<Figure size 432x288 with 1 Axes>"
      ]
     },
     "metadata": {
      "needs_background": "light"
     },
     "output_type": "display_data"
    }
   ],
   "source": [
    "n, bins, patches = plt.hist(x=not_bots['author_avg_comment_similarity'], bins='auto', color='#0504aa')\n",
    "plt.grid(axis='y')\n",
    "plt.xlabel('Value')\n",
    "plt.ylabel('Frequency')\n",
    "plt.title('Comment Similarity - Not Labeled Bot')\n",
    "maxfreq = n.max()\n",
    "# Set a clean upper y-axis limit.\n",
    "#plt.ylim(ymax=100)"
   ]
  },
  {
   "cell_type": "code",
   "execution_count": 48,
   "metadata": {},
   "outputs": [
    {
     "data": {
      "text/plain": [
       "(-0.012857142857142857, 0.1)"
      ]
     },
     "execution_count": 48,
     "metadata": {},
     "output_type": "execute_result"
    },
    {
     "data": {
      "image/png": "[encoded data removed]",
      "text/plain": [
       "<Figure size 432x288 with 1 Axes>"
      ]
     },
     "metadata": {
      "needs_background": "light"
     },
     "output_type": "display_data"
    }
   ],
   "source": [
    "n, bins, patches = plt.hist(x=bots_only['author_%_controversiality'], bins='auto', color='#0504aa')\n",
    "plt.grid(axis='y')\n",
    "plt.xlabel('Value')\n",
    "plt.ylabel('Frequency')\n",
    "plt.title('author_%_controversiality - Labeled Bot')\n",
    "maxfreq = n.max()\n",
    "# Set a clean upper x-axis limit.\n",
    "plt.xlim(xmax=.1)"
   ]
  },
  {
   "cell_type": "code",
   "execution_count": 49,
   "metadata": {},
   "outputs": [
    {
     "data": {
      "text/plain": [
       "(-0.05, 0.2)"
      ]
     },
     "execution_count": 49,
     "metadata": {},
     "output_type": "execute_result"
    },
    {
     "data": {
      "image/png": "[encoded data removed]",
      "text/plain": [
       "<Figure size 432x288 with 1 Axes>"
      ]
     },
     "metadata": {
      "needs_background": "light"
     },
     "output_type": "display_data"
    }
   ],
   "source": [
    "n, bins, patches = plt.hist(x=not_bots['author_%_controversiality'], bins='auto', color='#0504aa')\n",
    "plt.grid(axis='y')\n",
    "plt.xlabel('Value')\n",
    "plt.ylabel('Frequency')\n",
    "plt.title('author_%_controversiality - Not Labeled Bot')\n",
    "maxfreq = n.max()\n",
    "# Set a clean upper x-axis limit.\n",
    "plt.xlim(xmax=.2)"
   ]
  },
  {
   "cell_type": "code",
   "execution_count": 50,
   "metadata": {},
   "outputs": [
    {
     "data": {
      "text/plain": [
       "(0.0, 35000)"
      ]
     },
     "execution_count": 50,
     "metadata": {},
     "output_type": "execute_result"
    },
    {
     "data": {
      "image/png": "[encoded data removed]",
      "text/plain": [
       "<Figure size 432x288 with 1 Axes>"
      ]
     },
     "metadata": {
      "needs_background": "light"
     },
     "output_type": "display_data"
    }
   ],
   "source": [
    "n, bins, patches = plt.hist(x=bots_only['author_link_karma'], bins='auto', color='#0504aa')\n",
    "plt.grid(axis='y')\n",
    "plt.xlabel('Value')\n",
    "plt.ylabel('Frequency')\n",
    "plt.title('Author Link Karma - Labeled Bot')\n",
    "maxfreq = n.max()\n",
    "# Set a clean upper y-axis limit.\n",
    "plt.ylim(ymax=35000)"
   ]
  },
  {
   "cell_type": "markdown",
   "metadata": {},
   "source": [
    "## Preprocessing and Preparing the Training Data"
   ]
  },
  {
   "cell_type": "code",
   "execution_count": 51,
   "metadata": {},
   "outputs": [
    {
     "name": "stderr",
     "output_type": "stream",
     "text": [
      "/Users/KatieBarthelson/opt/anaconda3/lib/python3.7/site-packages/ipykernel_launcher.py:1: DeprecationWarning: Numeric-style type codes are deprecated and will result in an error in the future.\n",
      "  \"\"\"Entry point for launching an IPython kernel.\n"
     ]
    }
   ],
   "source": [
    "features = features.values.astype('Int64')\n",
    "labels = labels.values.astype('int')\n",
    "\n",
    "#features[features == inf] = np.finfo(np.float64).max"
   ]
  },
  {
   "cell_type": "code",
   "execution_count": 52,
   "metadata": {},
   "outputs": [],
   "source": [
    "features = preprocessing.scale(features)\n",
    "x_train, x_test, y_train, y_test = train_test_split(features, labels, test_size=0.2, shuffle=True, random_state=16)"
   ]
  },
  {
   "cell_type": "markdown",
   "metadata": {},
   "source": [
    "## Variable Selection\n",
    "### Lasso"
   ]
  },
  {
   "cell_type": "code",
   "execution_count": 53,
   "metadata": {},
   "outputs": [
    {
     "name": "stdout",
     "output_type": "stream",
     "text": [
      "0.5\n",
      "[[0.1865665  0.18674423 0.1863569  0.18615884 0.18704318]\n",
      " [0.1865665  0.18674423 0.1863569  0.18615884 0.18704318]\n",
      " [0.1865665  0.18674423 0.1863569  0.18615884 0.18704318]\n",
      " [0.1865665  0.18674423 0.1863569  0.18615884 0.18704318]\n",
      " [0.1865665  0.18674423 0.1863569  0.18615884 0.18704318]]\n",
      "Fitted Model\n",
      "<bound method BaseEstimator.get_params of LassoCV(alphas=[0.5, 0.4, 0.3, 0.2, 0.1], copy_X=True, cv=None, eps=0.001,\n",
      "        fit_intercept=True, max_iter=1000, n_alphas=5, n_jobs=None,\n",
      "        normalize=True, positive=False, precompute='auto', random_state=None,\n",
      "        selection='cyclic', tol=0.01, verbose=False)>\n",
      "Coefficients\n",
      "[-0. -0.  0.  0. -0.  0.  0. -0. -0. -0.  0. -0.  0.  0.  0. -0.  0. -0.\n",
      " -0. -0. -0.  0. -0.  0. -0.]\n",
      "sum-of-squares residuals\n",
      "28521.780503501166\n"
     ]
    },
    {
     "data": {
      "image/png": "[encoded data removed]",
      "text/plain": [
       "<Figure size 432x288 with 1 Axes>"
      ]
     },
     "metadata": {
      "needs_background": "light"
     },
     "output_type": "display_data"
    },
    {
     "name": "stdout",
     "output_type": "stream",
     "text": [
      "[[ 0.00000000e+00 -2.28968556e-01 -2.54931265e-01 -2.60673023e-01\n",
      "  -2.65195766e-01 -2.65959342e-01 -2.71114718e-01 -2.73559984e-01\n",
      "  -2.79350172e-01 -2.80706532e-01 -2.81512611e-01 -2.81653068e-01\n",
      "  -2.82318131e-01 -2.82516784e-01 -2.82650197e-01 -2.82650197e-01\n",
      "  -2.82914992e-01 -2.83144241e-01 -2.83218030e-01 -2.83261205e-01\n",
      "  -2.83338141e-01]\n",
      " [ 0.00000000e+00  0.00000000e+00  0.00000000e+00  0.00000000e+00\n",
      "   0.00000000e+00  0.00000000e+00  0.00000000e+00  0.00000000e+00\n",
      "   0.00000000e+00  0.00000000e+00  0.00000000e+00  6.11093849e-04\n",
      "   3.30000700e-03  4.09769692e-03  4.64509025e-03  4.64509025e-03\n",
      "   5.69608263e-03  6.60012809e-03  6.89063804e-03  7.06143231e-03\n",
      "   7.36703735e-03]\n",
      " [ 0.00000000e+00  0.00000000e+00  0.00000000e+00  0.00000000e+00\n",
      "   0.00000000e+00  0.00000000e+00  0.00000000e+00  0.00000000e+00\n",
      "   1.39058636e-02  1.72903360e-02  1.99040307e-02  2.03332114e-02\n",
      "   2.40915928e-02  2.51925710e-02  2.59469655e-02  2.59469655e-02\n",
      "   2.71330351e-02  2.81424337e-02  2.84662125e-02  2.86566039e-02\n",
      "   2.89973329e-02]\n",
      " [ 0.00000000e+00  0.00000000e+00  0.00000000e+00  0.00000000e+00\n",
      "   0.00000000e+00  0.00000000e+00  0.00000000e+00  0.00000000e+00\n",
      "   0.00000000e+00  0.00000000e+00  0.00000000e+00  0.00000000e+00\n",
      "  -4.97679531e-03 -6.44522032e-03 -7.45186325e-03 -7.45186325e-03\n",
      "  -9.43985133e-03 -1.11530713e-02 -1.17022717e-02 -1.20252629e-02\n",
      "  -1.26033913e-02]\n",
      " [ 0.00000000e+00  0.00000000e+00  0.00000000e+00 -7.83010362e-03\n",
      "  -1.47895237e-02 -1.60702754e-02 -2.47174192e-02 -2.93270606e-02\n",
      "  -4.07418122e-02 -4.36001096e-02 -4.58980783e-02 -4.62539077e-02\n",
      "  -4.79778878e-02 -4.84829501e-02 -4.88287849e-02 -4.88287849e-02\n",
      "  -4.94524372e-02 -5.03186650e-02 -5.05954273e-02 -5.07581456e-02\n",
      "  -5.10492849e-02]\n",
      " [ 0.00000000e+00  0.00000000e+00  2.60952753e-02  3.28110067e-02\n",
      "   3.82472219e-02  3.91899177e-02  4.55546376e-02  4.79604675e-02\n",
      "   5.41718666e-02  5.57218384e-02  5.70617415e-02  5.73181953e-02\n",
      "   5.99275724e-02  6.06798690e-02  6.11931701e-02  6.11931701e-02\n",
      "   6.20577050e-02  6.27973938e-02  6.30345533e-02  6.31747409e-02\n",
      "   6.34268862e-02]\n",
      " [ 0.00000000e+00  0.00000000e+00  0.00000000e+00  0.00000000e+00\n",
      "   0.00000000e+00  0.00000000e+00  0.00000000e+00  0.00000000e+00\n",
      "   0.00000000e+00  0.00000000e+00  0.00000000e+00  0.00000000e+00\n",
      "   0.00000000e+00  0.00000000e+00  0.00000000e+00  0.00000000e+00\n",
      "   0.00000000e+00  0.00000000e+00  0.00000000e+00  0.00000000e+00\n",
      "   0.00000000e+00]\n",
      " [ 0.00000000e+00  0.00000000e+00  0.00000000e+00  0.00000000e+00\n",
      "   0.00000000e+00 -1.05280264e-03 -1.16844094e-02 -1.74184823e-02\n",
      "  -3.26541031e-02 -3.64474724e-02 -3.91191329e-02 -3.97814002e-02\n",
      "  -4.28435956e-02 -4.37324292e-02 -4.44128779e-02 -4.44128779e-02\n",
      "  -4.55999548e-02 -4.66156871e-02 -4.69401443e-02 -4.71310481e-02\n",
      "  -4.74725597e-02]\n",
      " [ 0.00000000e+00  0.00000000e+00  0.00000000e+00  0.00000000e+00\n",
      "   0.00000000e+00  0.00000000e+00  0.00000000e+00  0.00000000e+00\n",
      "   0.00000000e+00  0.00000000e+00  0.00000000e+00  0.00000000e+00\n",
      "   0.00000000e+00  0.00000000e+00  0.00000000e+00  0.00000000e+00\n",
      "   0.00000000e+00  0.00000000e+00  0.00000000e+00  0.00000000e+00\n",
      "  -1.70480117e-04]\n",
      " [ 0.00000000e+00  0.00000000e+00  0.00000000e+00  0.00000000e+00\n",
      "   0.00000000e+00  0.00000000e+00  3.52348747e-03  5.42380388e-03\n",
      "   1.04740663e-02  1.17314209e-02  1.26169037e-02  1.28368520e-02\n",
      "   1.38538818e-02  1.41490731e-02  1.43749620e-02  1.43749620e-02\n",
      "   1.47690785e-02  1.51063129e-02  1.52140287e-02  1.52774064e-02\n",
      "   1.53907843e-02]\n",
      " [ 0.00000000e+00  0.00000000e+00  0.00000000e+00  0.00000000e+00\n",
      "   0.00000000e+00  0.00000000e+00  0.00000000e+00  0.00000000e+00\n",
      "   0.00000000e+00  0.00000000e+00  0.00000000e+00  0.00000000e+00\n",
      "   0.00000000e+00  0.00000000e+00  0.00000000e+00  0.00000000e+00\n",
      "   0.00000000e+00  0.00000000e+00  0.00000000e+00  0.00000000e+00\n",
      "   0.00000000e+00]\n",
      " [ 0.00000000e+00  0.00000000e+00  0.00000000e+00  0.00000000e+00\n",
      "   0.00000000e+00  0.00000000e+00  0.00000000e+00  0.00000000e+00\n",
      "   0.00000000e+00  0.00000000e+00  0.00000000e+00  0.00000000e+00\n",
      "   0.00000000e+00  0.00000000e+00  0.00000000e+00  0.00000000e+00\n",
      "   0.00000000e+00  0.00000000e+00  0.00000000e+00 -9.53827172e-05\n",
      "  -2.66059926e-04]\n",
      " [ 0.00000000e+00  0.00000000e+00  0.00000000e+00  0.00000000e+00\n",
      "   0.00000000e+00  0.00000000e+00  0.00000000e+00  0.00000000e+00\n",
      "   0.00000000e+00  0.00000000e+00  0.00000000e+00  0.00000000e+00\n",
      "   0.00000000e+00  0.00000000e+00  0.00000000e+00  0.00000000e+00\n",
      "   0.00000000e+00  0.00000000e+00  0.00000000e+00  0.00000000e+00\n",
      "   0.00000000e+00]\n",
      " [ 0.00000000e+00  0.00000000e+00  0.00000000e+00  0.00000000e+00\n",
      "   0.00000000e+00  0.00000000e+00  0.00000000e+00  3.47749106e-03\n",
      "   1.16918931e-02  1.37827443e-02  1.53360528e-02  1.56178264e-02\n",
      "   1.72157947e-02  1.76875144e-02  1.80105246e-02  1.80105246e-02\n",
      "   1.85905628e-02  1.90887670e-02  1.92483953e-02  1.93420285e-02\n",
      "   1.95091616e-02]\n",
      " [ 0.00000000e+00  0.00000000e+00  0.00000000e+00  0.00000000e+00\n",
      "   0.00000000e+00  0.00000000e+00  0.00000000e+00  0.00000000e+00\n",
      "   0.00000000e+00  0.00000000e+00  0.00000000e+00  0.00000000e+00\n",
      "   0.00000000e+00  0.00000000e+00  0.00000000e+00  0.00000000e+00\n",
      "   8.63642894e-04  1.64335322e-03  1.89312889e-03  2.03980932e-03\n",
      "   2.30199117e-03]\n",
      " [ 0.00000000e+00  0.00000000e+00  0.00000000e+00  0.00000000e+00\n",
      "   0.00000000e+00  0.00000000e+00  0.00000000e+00  0.00000000e+00\n",
      "   0.00000000e+00  0.00000000e+00  0.00000000e+00  0.00000000e+00\n",
      "   0.00000000e+00  0.00000000e+00  0.00000000e+00  0.00000000e+00\n",
      "   0.00000000e+00  9.96193951e-04  1.31490733e-03  1.50223287e-03\n",
      "   1.83731694e-03]\n",
      " [ 0.00000000e+00  0.00000000e+00  0.00000000e+00  0.00000000e+00\n",
      "   6.38259283e-03  7.43309179e-03  1.45256575e-02  1.83673809e-02\n",
      "   2.78836740e-02  3.02315256e-02  3.22060615e-02  3.25490194e-02\n",
      "   3.40937127e-02  3.45763498e-02  3.49394745e-02  3.49394745e-02\n",
      "   3.55536362e-02  3.60706545e-02  3.62374517e-02  3.63353969e-02\n",
      "   3.65105517e-02]\n",
      " [ 0.00000000e+00  0.00000000e+00  0.00000000e+00  0.00000000e+00\n",
      "   0.00000000e+00  0.00000000e+00  0.00000000e+00  0.00000000e+00\n",
      "   0.00000000e+00  0.00000000e+00  0.00000000e+00  0.00000000e+00\n",
      "   0.00000000e+00  0.00000000e+00  0.00000000e+00  0.00000000e+00\n",
      "   0.00000000e+00  0.00000000e+00 -2.57035811e-04 -4.08110611e-04\n",
      "  -6.78378001e-04]\n",
      " [ 0.00000000e+00  0.00000000e+00  0.00000000e+00  0.00000000e+00\n",
      "   0.00000000e+00  0.00000000e+00  0.00000000e+00  0.00000000e+00\n",
      "   0.00000000e+00  0.00000000e+00  0.00000000e+00  0.00000000e+00\n",
      "   0.00000000e+00  0.00000000e+00  5.26955063e-04  5.26955063e-04\n",
      "   1.94933824e-03  3.13687460e-03  3.61602067e-03  3.89765544e-03\n",
      "   4.40148103e-03]\n",
      " [ 0.00000000e+00  0.00000000e+00  0.00000000e+00  0.00000000e+00\n",
      "   0.00000000e+00  0.00000000e+00  0.00000000e+00  0.00000000e+00\n",
      "   0.00000000e+00 -3.78643310e-03 -6.71861895e-03 -7.20488847e-03\n",
      "  -9.49758293e-03 -1.01727113e-02 -1.06386132e-02 -1.06386132e-02\n",
      "  -1.14530680e-02 -1.21678295e-02 -1.23973298e-02 -1.25322483e-02\n",
      "  -1.27720799e-02]\n",
      " [ 0.00000000e+00  0.00000000e+00  0.00000000e+00  0.00000000e+00\n",
      "   0.00000000e+00  0.00000000e+00  0.00000000e+00  0.00000000e+00\n",
      "   0.00000000e+00  0.00000000e+00  0.00000000e+00  0.00000000e+00\n",
      "   0.00000000e+00  0.00000000e+00  0.00000000e+00 -4.78827957e-19\n",
      "  -4.75548081e-04 -8.72553230e-04 -1.03280372e-03 -1.12699652e-03\n",
      "  -1.29550108e-03]\n",
      " [ 0.00000000e+00  0.00000000e+00  0.00000000e+00  0.00000000e+00\n",
      "   0.00000000e+00  0.00000000e+00  0.00000000e+00  0.00000000e+00\n",
      "   0.00000000e+00  0.00000000e+00  0.00000000e+00  0.00000000e+00\n",
      "   0.00000000e+00  0.00000000e+00  0.00000000e+00  0.00000000e+00\n",
      "   0.00000000e+00  0.00000000e+00  0.00000000e+00  0.00000000e+00\n",
      "   0.00000000e+00]\n",
      " [ 0.00000000e+00  0.00000000e+00  0.00000000e+00  0.00000000e+00\n",
      "   0.00000000e+00  0.00000000e+00  0.00000000e+00  0.00000000e+00\n",
      "   0.00000000e+00  0.00000000e+00  0.00000000e+00  0.00000000e+00\n",
      "   0.00000000e+00 -5.96012745e-04 -1.00062474e-03 -1.00062474e-03\n",
      "  -1.70812624e-03 -2.31253789e-03 -2.50576834e-03 -2.61835045e-03\n",
      "  -2.81980423e-03]\n",
      " [ 0.00000000e+00  0.00000000e+00  0.00000000e+00  0.00000000e+00\n",
      "   0.00000000e+00  0.00000000e+00  0.00000000e+00  0.00000000e+00\n",
      "   0.00000000e+00  0.00000000e+00  0.00000000e+00  0.00000000e+00\n",
      "   0.00000000e+00  0.00000000e+00  0.00000000e+00  0.00000000e+00\n",
      "   0.00000000e+00  0.00000000e+00  0.00000000e+00  0.00000000e+00\n",
      "   0.00000000e+00]\n",
      " [ 0.00000000e+00  0.00000000e+00  0.00000000e+00  0.00000000e+00\n",
      "   0.00000000e+00  0.00000000e+00  0.00000000e+00  0.00000000e+00\n",
      "   0.00000000e+00  0.00000000e+00 -2.84215210e-03 -3.28304600e-03\n",
      "  -5.32199517e-03 -5.91686926e-03 -6.32564927e-03 -6.32564927e-03\n",
      "  -7.08569750e-03 -7.73821165e-03 -7.94797763e-03 -8.06982019e-03\n",
      "  -8.28517812e-03]]\n"
     ]
    },
    {
     "data": {
      "image/png": "[encoded data removed]",
      "text/plain": [
       "<Figure size 432x288 with 1 Axes>"
      ]
     },
     "metadata": {
      "needs_background": "light"
     },
     "output_type": "display_data"
    }
   ],
   "source": [
    "from sklearn.linear_model import LassoCV\n",
    "lass = LassoCV(alphas=[5e-1,4e-1,3e-1,2e-1,1e-1], tol=0.01, selection='cyclic',n_alphas=5,normalize=True)\n",
    "lassfit = lass.fit(x_train, y_train)\n",
    "print(lass.alpha_)\n",
    "print(lass.mse_path_)\n",
    "predict_lass = lassfit.predict(x_test)\n",
    "print(\"Fitted Model\")\n",
    "print(lassfit.get_params)\n",
    "print(\"Coefficients\")\n",
    "print(lassfit.coef_)\n",
    "SSR = ((y_test - predict_lass) ** 2).sum()\n",
    "print(\"sum-of-squares residuals\")\n",
    "print(SSR)\n",
    "\n",
    "plt.plot([5e-1,4e-1,3e-1,2e-1,1e-1], lass.mse_path_[0], color='red')\n",
    "plt.plot([5e-1,4e-1,3e-1,2e-1,1e-1], lass.mse_path_[1], color='orange')\n",
    "plt.plot([5e-1,4e-1,3e-1,2e-1,1e-1], lass.mse_path_[2], color='green')\n",
    "plt.plot([5e-1,4e-1,3e-1,2e-1,1e-1], lass.mse_path_[3], color='blue')\n",
    "plt.plot([5e-1,4e-1,3e-1,2e-1,1e-1], lass.mse_path_[4], color='purple')\n",
    "#plt.plot(test_X, predict_lass, color='blue')\n",
    "plt.title('Lasso Regression')\n",
    "plt.xlabel('Alpha')\n",
    "plt.ylabel('MSE')\n",
    "plt.show()\n",
    "\n",
    "from sklearn import linear_model\n",
    "_, _, coefs = linear_model.lars_path(x_train, y_train, method='lasso')\n",
    "\n",
    "xx = np.sum(np.abs(coefs.T), axis=1)\n",
    "xx /= xx[-1]\n",
    "\n",
    "print(coefs)\n",
    "plt.plot(xx, coefs.T)\n",
    "ymin, ymax = plt.ylim()\n",
    "plt.vlines(xx, ymin, ymax, linestyle='dashed')\n",
    "plt.xlabel('|coef| / max|coef|')\n",
    "plt.ylabel('Coefficients')\n",
    "plt.title('LASSO Path')\n",
    "plt.axis('tight')\n",
    "plt.show()"
   ]
  },
  {
   "cell_type": "markdown",
   "metadata": {},
   "source": [
    "### Elastic Net"
   ]
  },
  {
   "cell_type": "code",
   "execution_count": 54,
   "metadata": {},
   "outputs": [
    {
     "name": "stdout",
     "output_type": "stream",
     "text": [
      "0.5\n",
      "Fitted Model\n",
      "<bound method BaseEstimator.get_params of ElasticNetCV(alphas=[0.5, 0.4, 0.3, 0.2, 0.1], copy_X=True, cv=None, eps=0.001,\n",
      "             fit_intercept=True, l1_ratio=0.5, max_iter=1000, n_alphas=100,\n",
      "             n_jobs=None, normalize=True, positive=False, precompute='auto',\n",
      "             random_state=None, selection='cyclic', tol=0.001, verbose=0)>\n",
      "Coefficients\n",
      "[-0. -0.  0.  0. -0.  0.  0. -0. -0. -0.  0. -0.  0.  0.  0. -0.  0. -0.\n",
      " -0. -0. -0.  0. -0.  0. -0.]\n",
      "sum-of-squares residuals\n",
      "28521.780503501166\n"
     ]
    },
    {
     "data": {
      "image/png": "[encoded data removed]",
      "text/plain": [
       "<Figure size 432x288 with 1 Axes>"
      ]
     },
     "metadata": {
      "needs_background": "light"
     },
     "output_type": "display_data"
    }
   ],
   "source": [
    "from sklearn.linear_model import ElasticNetCV\n",
    "enet = ElasticNetCV(alphas=[5e-1,4e-1,3e-1,2e-1,1e-1], tol=0.001, selection='cyclic',normalize=True)\n",
    "enetfit = enet.fit(x_train, y_train)\n",
    "#cv_mse = np.mean(lass.cv_values_, axis=0)\n",
    "print(enet.alpha_)\n",
    "#print(cv_mse)\n",
    "\n",
    "predict_enet = enetfit.predict(x_test)\n",
    "print(\"Fitted Model\")\n",
    "print(enetfit.get_params)\n",
    "print(\"Coefficients\")\n",
    "print(enetfit.coef_)\n",
    "SSR = ((y_test - predict_enet) ** 2).sum()\n",
    "print(\"sum-of-squares residuals\")\n",
    "print(SSR)\n",
    "\n",
    "#plt.plot(test_X, test_y, color='red')\n",
    "plt.plot([5e-1,4e-1,3e-1,2e-1,1e-1], enetfit.mse_path_[0], color='blue')\n",
    "plt.title('Elastic Net')\n",
    "plt.xlabel('Alpha')\n",
    "plt.ylabel('MSE')\n",
    "plt.show()"
   ]
  },
  {
   "cell_type": "markdown",
   "metadata": {},
   "source": [
    "## Update dataset to include selected features"
   ]
  },
  {
   "cell_type": "code",
   "execution_count": 55,
   "metadata": {},
   "outputs": [
    {
     "name": "stderr",
     "output_type": "stream",
     "text": [
      "/Users/KatieBarthelson/opt/anaconda3/lib/python3.7/site-packages/ipykernel_launcher.py:2: DeprecationWarning: Numeric-style type codes are deprecated and will result in an error in the future.\n",
      "  \n"
     ]
    }
   ],
   "source": [
    "features = data.drop(['is_submitter', 'author_avg_score', 'author_avg_ups','author_avg_downs','quarantine','author_%_quarantine','num_comments','gilded','score','ups','downs','controversiality','no_follow','Unnamed: 0', 'is_bot', 'author', 'body', 'created_utc'], axis=1)\n",
    "features = features.values.astype('Int64')\n",
    "features = preprocessing.scale(features)\n",
    "x_train, x_test, y_train, y_test = train_test_split(features, labels, test_size=0.2, shuffle=True, random_state=16)"
   ]
  },
  {
   "cell_type": "markdown",
   "metadata": {},
   "source": [
    "## Decision Tree"
   ]
  },
  {
   "cell_type": "code",
   "execution_count": 56,
   "metadata": {},
   "outputs": [
    {
     "name": "stdout",
     "output_type": "stream",
     "text": [
      "93.79437976610797\n"
     ]
    },
    {
     "data": {
      "text/html": [
       "<div>\n",
       "<style scoped>\n",
       "    .dataframe tbody tr th:only-of-type {\n",
       "        vertical-align: middle;\n",
       "    }\n",
       "\n",
       "    .dataframe tbody tr th {\n",
       "        vertical-align: top;\n",
       "    }\n",
       "\n",
       "    .dataframe thead th {\n",
       "        text-align: right;\n",
       "    }\n",
       "</style>\n",
       "<table border=\"1\" class=\"dataframe\">\n",
       "  <thead>\n",
       "    <tr style=\"text-align: right;\">\n",
       "      <th>Predicted</th>\n",
       "      <th>0</th>\n",
       "      <th>1</th>\n",
       "      <th>All</th>\n",
       "    </tr>\n",
       "    <tr>\n",
       "      <th>True</th>\n",
       "      <th></th>\n",
       "      <th></th>\n",
       "      <th></th>\n",
       "    </tr>\n",
       "  </thead>\n",
       "  <tbody>\n",
       "    <tr>\n",
       "      <th>0</th>\n",
       "      <td>108982</td>\n",
       "      <td>5400</td>\n",
       "      <td>114382</td>\n",
       "    </tr>\n",
       "    <tr>\n",
       "      <th>1</th>\n",
       "      <td>4056</td>\n",
       "      <td>33940</td>\n",
       "      <td>37996</td>\n",
       "    </tr>\n",
       "    <tr>\n",
       "      <th>All</th>\n",
       "      <td>113038</td>\n",
       "      <td>39340</td>\n",
       "      <td>152378</td>\n",
       "    </tr>\n",
       "  </tbody>\n",
       "</table>\n",
       "</div>"
      ],
      "text/plain": [
       "Predicted       0      1     All\n",
       "True                            \n",
       "0          108982   5400  114382\n",
       "1            4056  33940   37996\n",
       "All        113038  39340  152378"
      ]
     },
     "execution_count": 56,
     "metadata": {},
     "output_type": "execute_result"
    }
   ],
   "source": [
    "clf = DecisionTreeClassifier(max_depth=3,\n",
    "  class_weight={0:1,1:2},\n",
    "  min_samples_leaf=100)\n",
    "\n",
    "clf.fit(x_train, y_train)\n",
    "clf_pred = clf.predict(x_test)\n",
    "clf_accuracy = accuracy_score(y_test, clf_pred)*100\n",
    "\n",
    "print(clf_accuracy)\n",
    "matrix = pd.crosstab(y_test, clf_pred, rownames=[\"True\"], colnames=[\"Predicted\"], margins=True)\n",
    "matrix"
   ]
  },
  {
   "cell_type": "markdown",
   "metadata": {},
   "source": [
    "## Naive Bayes"
   ]
  },
  {
   "cell_type": "code",
   "execution_count": 57,
   "metadata": {},
   "outputs": [
    {
     "name": "stdout",
     "output_type": "stream",
     "text": [
      "88.60924805418105\n"
     ]
    },
    {
     "data": {
      "text/html": [
       "<div>\n",
       "<style scoped>\n",
       "    .dataframe tbody tr th:only-of-type {\n",
       "        vertical-align: middle;\n",
       "    }\n",
       "\n",
       "    .dataframe tbody tr th {\n",
       "        vertical-align: top;\n",
       "    }\n",
       "\n",
       "    .dataframe thead th {\n",
       "        text-align: right;\n",
       "    }\n",
       "</style>\n",
       "<table border=\"1\" class=\"dataframe\">\n",
       "  <thead>\n",
       "    <tr style=\"text-align: right;\">\n",
       "      <th>Predicted</th>\n",
       "      <th>0</th>\n",
       "      <th>1</th>\n",
       "      <th>All</th>\n",
       "    </tr>\n",
       "    <tr>\n",
       "      <th>True</th>\n",
       "      <th></th>\n",
       "      <th></th>\n",
       "      <th></th>\n",
       "    </tr>\n",
       "  </thead>\n",
       "  <tbody>\n",
       "    <tr>\n",
       "      <th>0</th>\n",
       "      <td>100407</td>\n",
       "      <td>13975</td>\n",
       "      <td>114382</td>\n",
       "    </tr>\n",
       "    <tr>\n",
       "      <th>1</th>\n",
       "      <td>3382</td>\n",
       "      <td>34614</td>\n",
       "      <td>37996</td>\n",
       "    </tr>\n",
       "    <tr>\n",
       "      <th>All</th>\n",
       "      <td>103789</td>\n",
       "      <td>48589</td>\n",
       "      <td>152378</td>\n",
       "    </tr>\n",
       "  </tbody>\n",
       "</table>\n",
       "</div>"
      ],
      "text/plain": [
       "Predicted       0      1     All\n",
       "True                            \n",
       "0          100407  13975  114382\n",
       "1            3382  34614   37996\n",
       "All        103789  48589  152378"
      ]
     },
     "execution_count": 57,
     "metadata": {},
     "output_type": "execute_result"
    }
   ],
   "source": [
    "nb_model = GaussianNB(var_smoothing = 1e-3)\n",
    "nb_model.fit(x_train, y_train)\n",
    "nb_y_pred = nb_model.predict(x_test)\n",
    "nb_accuracy = accuracy_score(y_test, nb_y_pred)*100\n",
    "\n",
    "print(nb_accuracy)\n",
    "matrix = pd.crosstab(y_test, nb_y_pred, rownames=[\"True\"], colnames=[\"Predicted\"], margins=True)\n",
    "matrix"
   ]
  },
  {
   "cell_type": "markdown",
   "metadata": {},
   "source": [
    "## Logistic Regression"
   ]
  },
  {
   "cell_type": "code",
   "execution_count": 58,
   "metadata": {},
   "outputs": [
    {
     "name": "stdout",
     "output_type": "stream",
     "text": [
      "Logistic Regression ------------------------------\n",
      "Accuracy 0.914660\n",
      "Precision\n",
      "[0.95883194 0.79820542]\n",
      "Recall\n",
      "[0.92607228 0.88030319]\n",
      "F-1 Score\n",
      "[0.94216743 0.83724656]\n"
     ]
    },
    {
     "data": {
      "text/html": [
       "<div>\n",
       "<style scoped>\n",
       "    .dataframe tbody tr th:only-of-type {\n",
       "        vertical-align: middle;\n",
       "    }\n",
       "\n",
       "    .dataframe tbody tr th {\n",
       "        vertical-align: top;\n",
       "    }\n",
       "\n",
       "    .dataframe thead th {\n",
       "        text-align: right;\n",
       "    }\n",
       "</style>\n",
       "<table border=\"1\" class=\"dataframe\">\n",
       "  <thead>\n",
       "    <tr style=\"text-align: right;\">\n",
       "      <th>Predicted</th>\n",
       "      <th>0</th>\n",
       "      <th>1</th>\n",
       "      <th>All</th>\n",
       "    </tr>\n",
       "    <tr>\n",
       "      <th>True</th>\n",
       "      <th></th>\n",
       "      <th></th>\n",
       "      <th></th>\n",
       "    </tr>\n",
       "  </thead>\n",
       "  <tbody>\n",
       "    <tr>\n",
       "      <th>0</th>\n",
       "      <td>105926</td>\n",
       "      <td>8456</td>\n",
       "      <td>114382</td>\n",
       "    </tr>\n",
       "    <tr>\n",
       "      <th>1</th>\n",
       "      <td>4548</td>\n",
       "      <td>33448</td>\n",
       "      <td>37996</td>\n",
       "    </tr>\n",
       "    <tr>\n",
       "      <th>All</th>\n",
       "      <td>110474</td>\n",
       "      <td>41904</td>\n",
       "      <td>152378</td>\n",
       "    </tr>\n",
       "  </tbody>\n",
       "</table>\n",
       "</div>"
      ],
      "text/plain": [
       "Predicted       0      1     All\n",
       "True                            \n",
       "0          105926   8456  114382\n",
       "1            4548  33448   37996\n",
       "All        110474  41904  152378"
      ]
     },
     "execution_count": 58,
     "metadata": {},
     "output_type": "execute_result"
    }
   ],
   "source": [
    "log = LogisticRegression(max_iter=100,tol=0.001)\n",
    "log_pred = log.fit(x_train,y_train).predict(x_test)\n",
    "log_accuracy = accuracy_score(y_test, log_pred)\n",
    "log_conf = confusion_matrix(y_test, log_pred)\n",
    "log_prec = precision_score(y_test, log_pred,average=None)\n",
    "log_recall = recall_score(y_test, log_pred,average=None)\n",
    "log_f1 = f1_score(y_test,log_pred,average=None)\n",
    "print(\"Logistic Regression ------------------------------\")\n",
    "print(\"Accuracy %f\" % log_accuracy)\n",
    "print(\"Precision\")\n",
    "print(log_prec)\n",
    "print(\"Recall\")\n",
    "print(log_recall)\n",
    "print(\"F-1 Score\")\n",
    "print(log_f1)\n",
    "matrix = pd.crosstab(y_test, log_pred, rownames=[\"True\"], colnames=[\"Predicted\"], margins=True)\n",
    "matrix"
   ]
  },
  {
   "cell_type": "markdown",
   "metadata": {},
   "source": [
    "## SVM"
   ]
  },
  {
   "cell_type": "code",
   "execution_count": 59,
   "metadata": {},
   "outputs": [
    {
     "name": "stderr",
     "output_type": "stream",
     "text": [
      "/Users/KatieBarthelson/opt/anaconda3/lib/python3.7/site-packages/sklearn/svm/_base.py:231: ConvergenceWarning: Solver terminated early (max_iter=200).  Consider pre-processing your data with StandardScaler or MinMaxScaler.\n",
      "  % self.max_iter, ConvergenceWarning)\n"
     ]
    },
    {
     "name": "stdout",
     "output_type": "stream",
     "text": [
      "SVM ------------------------------\n",
      "Accuracy 0.258253\n",
      "Precision\n",
      "[0.8124424  0.25024633]\n",
      "Recall\n",
      "[0.01541326 0.98928835]\n",
      "F-1 Score\n",
      "[0.03025259 0.39944953]\n"
     ]
    },
    {
     "data": {
      "text/html": [
       "<div>\n",
       "<style scoped>\n",
       "    .dataframe tbody tr th:only-of-type {\n",
       "        vertical-align: middle;\n",
       "    }\n",
       "\n",
       "    .dataframe tbody tr th {\n",
       "        vertical-align: top;\n",
       "    }\n",
       "\n",
       "    .dataframe thead th {\n",
       "        text-align: right;\n",
       "    }\n",
       "</style>\n",
       "<table border=\"1\" class=\"dataframe\">\n",
       "  <thead>\n",
       "    <tr style=\"text-align: right;\">\n",
       "      <th>Predicted</th>\n",
       "      <th>0</th>\n",
       "      <th>1</th>\n",
       "      <th>All</th>\n",
       "    </tr>\n",
       "    <tr>\n",
       "      <th>True</th>\n",
       "      <th></th>\n",
       "      <th></th>\n",
       "      <th></th>\n",
       "    </tr>\n",
       "  </thead>\n",
       "  <tbody>\n",
       "    <tr>\n",
       "      <th>0</th>\n",
       "      <td>1763</td>\n",
       "      <td>112619</td>\n",
       "      <td>114382</td>\n",
       "    </tr>\n",
       "    <tr>\n",
       "      <th>1</th>\n",
       "      <td>407</td>\n",
       "      <td>37589</td>\n",
       "      <td>37996</td>\n",
       "    </tr>\n",
       "    <tr>\n",
       "      <th>All</th>\n",
       "      <td>2170</td>\n",
       "      <td>150208</td>\n",
       "      <td>152378</td>\n",
       "    </tr>\n",
       "  </tbody>\n",
       "</table>\n",
       "</div>"
      ],
      "text/plain": [
       "Predicted     0       1     All\n",
       "True                           \n",
       "0          1763  112619  114382\n",
       "1           407   37589   37996\n",
       "All        2170  150208  152378"
      ]
     },
     "execution_count": 59,
     "metadata": {},
     "output_type": "execute_result"
    }
   ],
   "source": [
    "svm = SVC(kernel='linear',max_iter=200)\n",
    "svm_pred = svm.fit(x_train,y_train).predict(x_test)\n",
    "svm_accuracy = accuracy_score(y_test, svm_pred)\n",
    "svm_conf = confusion_matrix(y_test, svm_pred)\n",
    "svm_prec = precision_score(y_test, svm_pred,average=None)\n",
    "svm_recall = recall_score(y_test, svm_pred,average=None)\n",
    "svm_f1 = f1_score(y_test, svm_pred,average=None)\n",
    "print(\"SVM ------------------------------\")\n",
    "print(\"Accuracy %f\" % svm_accuracy)\n",
    "print(\"Precision\")\n",
    "print(svm_prec)\n",
    "print(\"Recall\")\n",
    "print(svm_recall)\n",
    "print(\"F-1 Score\")\n",
    "print(svm_f1)\n",
    "matrix = pd.crosstab(y_test, svm_pred, rownames=[\"True\"], colnames=[\"Predicted\"], margins=True)\n",
    "matrix"
   ]
  },
  {
   "cell_type": "markdown",
   "metadata": {},
   "source": [
    "## Kernel SVM"
   ]
  },
  {
   "cell_type": "code",
   "execution_count": 60,
   "metadata": {},
   "outputs": [
    {
     "name": "stderr",
     "output_type": "stream",
     "text": [
      "/Users/KatieBarthelson/opt/anaconda3/lib/python3.7/site-packages/sklearn/svm/_base.py:231: ConvergenceWarning: Solver terminated early (max_iter=200).  Consider pre-processing your data with StandardScaler or MinMaxScaler.\n",
      "  % self.max_iter, ConvergenceWarning)\n"
     ]
    },
    {
     "name": "stdout",
     "output_type": "stream",
     "text": [
      "Kernel SVM ------------------------------\n",
      "Accuracy 0.256087\n",
      "Precision\n",
      "[0.96050269 0.25089909]\n",
      "Recall\n",
      "[0.00935462 0.99884198]\n",
      "F-1 Score\n",
      "[0.01852878 0.40105675]\n"
     ]
    },
    {
     "data": {
      "text/html": [
       "<div>\n",
       "<style scoped>\n",
       "    .dataframe tbody tr th:only-of-type {\n",
       "        vertical-align: middle;\n",
       "    }\n",
       "\n",
       "    .dataframe tbody tr th {\n",
       "        vertical-align: top;\n",
       "    }\n",
       "\n",
       "    .dataframe thead th {\n",
       "        text-align: right;\n",
       "    }\n",
       "</style>\n",
       "<table border=\"1\" class=\"dataframe\">\n",
       "  <thead>\n",
       "    <tr style=\"text-align: right;\">\n",
       "      <th>Predicted</th>\n",
       "      <th>0</th>\n",
       "      <th>1</th>\n",
       "      <th>All</th>\n",
       "    </tr>\n",
       "    <tr>\n",
       "      <th>True</th>\n",
       "      <th></th>\n",
       "      <th></th>\n",
       "      <th></th>\n",
       "    </tr>\n",
       "  </thead>\n",
       "  <tbody>\n",
       "    <tr>\n",
       "      <th>0</th>\n",
       "      <td>1070</td>\n",
       "      <td>113312</td>\n",
       "      <td>114382</td>\n",
       "    </tr>\n",
       "    <tr>\n",
       "      <th>1</th>\n",
       "      <td>44</td>\n",
       "      <td>37952</td>\n",
       "      <td>37996</td>\n",
       "    </tr>\n",
       "    <tr>\n",
       "      <th>All</th>\n",
       "      <td>1114</td>\n",
       "      <td>151264</td>\n",
       "      <td>152378</td>\n",
       "    </tr>\n",
       "  </tbody>\n",
       "</table>\n",
       "</div>"
      ],
      "text/plain": [
       "Predicted     0       1     All\n",
       "True                           \n",
       "0          1070  113312  114382\n",
       "1            44   37952   37996\n",
       "All        1114  151264  152378"
      ]
     },
     "execution_count": 60,
     "metadata": {},
     "output_type": "execute_result"
    }
   ],
   "source": [
    "ksvm = SVC(kernel='poly', degree=8,max_iter=200)\n",
    "ksvm_pred = ksvm.fit(x_train,y_train).predict(x_test)\n",
    "ksvm_accuracy = accuracy_score(y_test, ksvm_pred)\n",
    "ksvm_conf = confusion_matrix(y_test, ksvm_pred)\n",
    "ksvm_prec = precision_score(y_test, ksvm_pred,average=None)\n",
    "ksvm_recall = recall_score(y_test, ksvm_pred,average=None)\n",
    "ksvm_f1 = f1_score(y_test, ksvm_pred,average=None)\n",
    "print(\"Kernel SVM ------------------------------\")\n",
    "print(\"Accuracy %f\" % ksvm_accuracy)\n",
    "print(\"Precision\")\n",
    "print(ksvm_prec)\n",
    "print(\"Recall\")\n",
    "print(ksvm_recall)\n",
    "print(\"F-1 Score\")\n",
    "print(ksvm_f1)\n",
    "matrix = pd.crosstab(y_test, ksvm_pred, rownames=[\"True\"], colnames=[\"Predicted\"], margins=True)\n",
    "matrix"
   ]
  },
  {
   "cell_type": "markdown",
   "metadata": {},
   "source": [
    "## Neural Network"
   ]
  },
  {
   "cell_type": "code",
   "execution_count": 61,
   "metadata": {},
   "outputs": [
    {
     "name": "stderr",
     "output_type": "stream",
     "text": [
      "/Users/KatieBarthelson/opt/anaconda3/lib/python3.7/site-packages/sklearn/neural_network/_multilayer_perceptron.py:571: ConvergenceWarning: Stochastic Optimizer: Maximum iterations (10) reached and the optimization hasn't converged yet.\n",
      "  % self.max_iter, ConvergenceWarning)\n"
     ]
    },
    {
     "name": "stdout",
     "output_type": "stream",
     "text": [
      "Neural Network ------------------------------\n",
      "Accuracy 0.951279\n",
      "Precision\n",
      "[0.96820227 0.90061851]\n",
      "Recall\n",
      "[0.96684793 0.90441099]\n",
      "F-1 Score\n",
      "[0.96752463 0.90251077]\n"
     ]
    },
    {
     "data": {
      "text/html": [
       "<div>\n",
       "<style scoped>\n",
       "    .dataframe tbody tr th:only-of-type {\n",
       "        vertical-align: middle;\n",
       "    }\n",
       "\n",
       "    .dataframe tbody tr th {\n",
       "        vertical-align: top;\n",
       "    }\n",
       "\n",
       "    .dataframe thead th {\n",
       "        text-align: right;\n",
       "    }\n",
       "</style>\n",
       "<table border=\"1\" class=\"dataframe\">\n",
       "  <thead>\n",
       "    <tr style=\"text-align: right;\">\n",
       "      <th>Predicted</th>\n",
       "      <th>0</th>\n",
       "      <th>1</th>\n",
       "      <th>All</th>\n",
       "    </tr>\n",
       "    <tr>\n",
       "      <th>True</th>\n",
       "      <th></th>\n",
       "      <th></th>\n",
       "      <th></th>\n",
       "    </tr>\n",
       "  </thead>\n",
       "  <tbody>\n",
       "    <tr>\n",
       "      <th>0</th>\n",
       "      <td>110590</td>\n",
       "      <td>3792</td>\n",
       "      <td>114382</td>\n",
       "    </tr>\n",
       "    <tr>\n",
       "      <th>1</th>\n",
       "      <td>3632</td>\n",
       "      <td>34364</td>\n",
       "      <td>37996</td>\n",
       "    </tr>\n",
       "    <tr>\n",
       "      <th>All</th>\n",
       "      <td>114222</td>\n",
       "      <td>38156</td>\n",
       "      <td>152378</td>\n",
       "    </tr>\n",
       "  </tbody>\n",
       "</table>\n",
       "</div>"
      ],
      "text/plain": [
       "Predicted       0      1     All\n",
       "True                            \n",
       "0          110590   3792  114382\n",
       "1            3632  34364   37996\n",
       "All        114222  38156  152378"
      ]
     },
     "execution_count": 61,
     "metadata": {},
     "output_type": "execute_result"
    }
   ],
   "source": [
    "nn = MLPClassifier(random_state=1, max_iter=10)\n",
    "nn_pred = nn.fit(x_train,y_train).predict(x_test)\n",
    "nn_accuracy = accuracy_score(y_test, nn_pred)\n",
    "nn_conf = confusion_matrix(y_test, nn_pred)\n",
    "nn_prec = precision_score(y_test, nn_pred,average=None)\n",
    "nn_recall = recall_score(y_test, nn_pred,average=None)\n",
    "nn_f1 = f1_score(y_test, nn_pred,average=None)\n",
    "print(\"Neural Network ------------------------------\")\n",
    "print(\"Accuracy %f\" % nn_accuracy)\n",
    "print(\"Precision\")\n",
    "print(nn_prec)\n",
    "print(\"Recall\")\n",
    "print(nn_recall)\n",
    "print(\"F-1 Score\")\n",
    "print(nn_f1)\n",
    "matrix = pd.crosstab(y_test, nn_pred, rownames=[\"True\"], colnames=[\"Predicted\"], margins=True)\n",
    "matrix"
   ]
  },
  {
   "cell_type": "markdown",
   "metadata": {},
   "source": [
    "## K-Nearest Neighbors"
   ]
  },
  {
   "cell_type": "code",
   "execution_count": 62,
   "metadata": {},
   "outputs": [
    {
     "name": "stdout",
     "output_type": "stream",
     "text": [
      "KNN ------------------------------\n",
      "Accuracy 0.999921\n",
      "Precision\n",
      "[0.99992132 0.99992103]\n",
      "Recall\n",
      "[0.99997377 0.99976313]\n",
      "F-1 Score\n",
      "[0.99994755 0.99984208]\n"
     ]
    },
    {
     "data": {
      "text/html": [
       "<div>\n",
       "<style scoped>\n",
       "    .dataframe tbody tr th:only-of-type {\n",
       "        vertical-align: middle;\n",
       "    }\n",
       "\n",
       "    .dataframe tbody tr th {\n",
       "        vertical-align: top;\n",
       "    }\n",
       "\n",
       "    .dataframe thead th {\n",
       "        text-align: right;\n",
       "    }\n",
       "</style>\n",
       "<table border=\"1\" class=\"dataframe\">\n",
       "  <thead>\n",
       "    <tr style=\"text-align: right;\">\n",
       "      <th>Predicted</th>\n",
       "      <th>0</th>\n",
       "      <th>1</th>\n",
       "      <th>All</th>\n",
       "    </tr>\n",
       "    <tr>\n",
       "      <th>True</th>\n",
       "      <th></th>\n",
       "      <th></th>\n",
       "      <th></th>\n",
       "    </tr>\n",
       "  </thead>\n",
       "  <tbody>\n",
       "    <tr>\n",
       "      <th>0</th>\n",
       "      <td>114379</td>\n",
       "      <td>3</td>\n",
       "      <td>114382</td>\n",
       "    </tr>\n",
       "    <tr>\n",
       "      <th>1</th>\n",
       "      <td>9</td>\n",
       "      <td>37987</td>\n",
       "      <td>37996</td>\n",
       "    </tr>\n",
       "    <tr>\n",
       "      <th>All</th>\n",
       "      <td>114388</td>\n",
       "      <td>37990</td>\n",
       "      <td>152378</td>\n",
       "    </tr>\n",
       "  </tbody>\n",
       "</table>\n",
       "</div>"
      ],
      "text/plain": [
       "Predicted       0      1     All\n",
       "True                            \n",
       "0          114379      3  114382\n",
       "1               9  37987   37996\n",
       "All        114388  37990  152378"
      ]
     },
     "execution_count": 62,
     "metadata": {},
     "output_type": "execute_result"
    }
   ],
   "source": [
    "knn = KNeighborsClassifier()\n",
    "knn_pred = knn.fit(x_train,y_train).predict(x_test)\n",
    "knn_accuracy = accuracy_score(y_test, knn_pred)\n",
    "knn_conf = confusion_matrix(y_test, knn_pred)\n",
    "knn_prec = precision_score(y_test, knn_pred,average=None)\n",
    "knn_recall = recall_score(y_test, knn_pred,average=None)\n",
    "knn_f1 = f1_score(y_test, knn_pred,average=None)\n",
    "print(\"KNN ------------------------------\")\n",
    "print(\"Accuracy %f\" % knn_accuracy)\n",
    "print(\"Precision\")\n",
    "print(knn_prec)\n",
    "print(\"Recall\")\n",
    "print(knn_recall)\n",
    "print(\"F-1 Score\")\n",
    "print(knn_f1)\n",
    "matrix = pd.crosstab(y_test, knn_pred, rownames=[\"True\"], colnames=[\"Predicted\"], margins=True)\n",
    "matrix"
   ]
  },
  {
   "cell_type": "markdown",
   "metadata": {},
   "source": [
    "### References \n",
    "\n",
    "Skowronski, J. (2019, July 30). Identifying trolls and bots on Reddit with machine learning (part 2). Retrieved March 22, 2021, from https://towardsdatascience.com/identifying-trolls-and-bots-on-reddit-with-machine-learning-709da5970af1  "
   ]
  },
  {
   "cell_type": "code",
   "execution_count": null,
   "metadata": {},
   "outputs": [],
   "source": []
  }
 ],
 "metadata": {
  "kernelspec": {
   "display_name": "Python 3",
   "language": "python",
   "name": "python3"
  },
  "language_info": {
   "codemirror_mode": {
    "name": "ipython",
    "version": 3
   },
   "file_extension": ".py",
   "mimetype": "text/x-python",
   "name": "python",
   "nbconvert_exporter": "python",
   "pygments_lexer": "ipython3",
   "version": "3.7.6"
  }
 },
 "nbformat": 4,
 "nbformat_minor": 5
}
